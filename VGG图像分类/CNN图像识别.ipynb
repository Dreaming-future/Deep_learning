{
 "cells": [
  {
   "cell_type": "code",
   "execution_count": 3,
   "metadata": {
    "ExecuteTime": {
     "end_time": "2021-05-15T16:58:14.463299Z",
     "start_time": "2021-05-15T16:58:14.441357Z"
    }
   },
   "outputs": [],
   "source": [
    "f = open('cifar-10-python/cifar-10-batches-py/batches.meta', 'r')"
   ]
  },
  {
   "cell_type": "code",
   "execution_count": 1,
   "metadata": {
    "ExecuteTime": {
     "end_time": "2021-05-28T12:16:15.819963Z",
     "start_time": "2021-05-28T12:16:07.958557Z"
    }
   },
   "outputs": [],
   "source": [
    "import tensorflow as tf"
   ]
  },
  {
   "cell_type": "code",
   "execution_count": 2,
   "metadata": {
    "ExecuteTime": {
     "end_time": "2021-05-28T12:16:49.335056Z",
     "start_time": "2021-05-28T12:16:49.318100Z"
    }
   },
   "outputs": [],
   "source": [
    "import os\n",
    "os.environ['TF_CPP_MIN_LOG_LEVEL'] = '2' # 忽略低级别的警告"
   ]
  },
  {
   "cell_type": "code",
   "execution_count": 3,
   "metadata": {
    "ExecuteTime": {
     "end_time": "2021-05-28T12:17:04.259191Z",
     "start_time": "2021-05-28T12:17:00.587747Z"
    }
   },
   "outputs": [
    {
     "name": "stdout",
     "output_type": "stream",
     "text": [
      "WARNING:tensorflow:From <ipython-input-3-17bb7203622b>:1: is_gpu_available (from tensorflow.python.framework.test_util) is deprecated and will be removed in a future version.\n",
      "Instructions for updating:\n",
      "Use `tf.config.list_physical_devices('GPU')` instead.\n"
     ]
    },
    {
     "data": {
      "text/plain": [
       "True"
      ]
     },
     "execution_count": 3,
     "metadata": {},
     "output_type": "execute_result"
    }
   ],
   "source": [
    "tf.test.is_gpu_available()"
   ]
  },
  {
   "cell_type": "code",
   "execution_count": 4,
   "metadata": {
    "ExecuteTime": {
     "end_time": "2021-05-28T12:17:14.066448Z",
     "start_time": "2021-05-28T12:17:14.039557Z"
    }
   },
   "outputs": [
    {
     "data": {
      "text/plain": [
       "[PhysicalDevice(name='/physical_device:GPU:0', device_type='GPU')]"
      ]
     },
     "execution_count": 4,
     "metadata": {},
     "output_type": "execute_result"
    }
   ],
   "source": [
    "tf.config.list_physical_devices('GPU')"
   ]
  },
  {
   "cell_type": "code",
   "execution_count": 4,
   "metadata": {
    "ExecuteTime": {
     "end_time": "2021-05-15T16:58:14.479257Z",
     "start_time": "2021-05-15T16:58:14.468285Z"
    }
   },
   "outputs": [],
   "source": [
    "# 使用GPU\n",
    "import os\n",
    "os.environ[\"CUDA_DEVICE_ORDER\"]=\"PCI_BUS_ID\"\n",
    "# The GPU id to use, usually either \"0\" or \"1\"\n",
    "os.environ[\"CUDA_VISIBLE_DEVICES\"]=\"0\""
   ]
  },
  {
   "cell_type": "code",
   "execution_count": null,
   "metadata": {
    "ExecuteTime": {
     "start_time": "2021-05-15T16:58:14.446Z"
    }
   },
   "outputs": [],
   "source": [
    "import matplotlib.pyplot as plt\n",
    "import numpy as np\n",
    "\n",
    "import keras\n",
    "from keras.utils import np_utils\n",
    "# from keras.preprocessing.image import ImageDataGenerator\n",
    "from keras.models import Sequential\n",
    "from keras.layers import Dense,Conv2D,MaxPooling2D,Dropout,Activation,Flatten,BatchNormalization\n",
    "import keras\n",
    "from tensorflow.compat.v1 import ConfigProto\n",
    "from tensorflow.compat.v1 import InteractiveSession\n",
    "\n",
    "config = ConfigProto()\n",
    "# config.gpu_options.allow_growth = True\n",
    "config.gpu_options.per_process_gpu_memory_fraction = 0.9\n",
    "session = InteractiveSession(config=config)"
   ]
  },
  {
   "cell_type": "code",
   "execution_count": null,
   "metadata": {
    "ExecuteTime": {
     "start_time": "2021-05-15T16:58:14.452Z"
    }
   },
   "outputs": [],
   "source": [
    "import pickle\n",
    "\n",
    "def unpickle(file):\n",
    "      with open(file, 'rb') as fo:\n",
    "              dict = pickle.load(fo, encoding='bytes')\n",
    "      return dict"
   ]
  },
  {
   "cell_type": "code",
   "execution_count": null,
   "metadata": {
    "ExecuteTime": {
     "start_time": "2021-05-15T16:58:14.456Z"
    }
   },
   "outputs": [],
   "source": [
    "# 训练集文件\n",
    "train_files = ['data_batch_'+str(i) for i in range(1,6)]\n",
    "\n",
    "train_data_list,train_label_list = [],[]\n",
    "\n",
    "for f in train_files:\n",
    "    \n",
    "    fpath = 'cifar-10-python/cifar-10-batches-py/' + f\n",
    "    batch_dict = unpickle(fpath)\n",
    "    \n",
    "    batch_data = batch_dict[b'data']\n",
    "    batch_labels = batch_dict[b'labels']\n",
    "    train_data_list.append(batch_data)\n",
    "    train_label_list.append(batch_labels)\n",
    "\n",
    "X_train = np.concatenate(train_data_list, axis = 0)\n",
    "y_train = np.concatenate(train_label_list, axis = 0)"
   ]
  },
  {
   "cell_type": "code",
   "execution_count": null,
   "metadata": {
    "ExecuteTime": {
     "start_time": "2021-05-15T16:58:14.460Z"
    }
   },
   "outputs": [],
   "source": [
    "# 测试集文件\n",
    "test_batch = unpickle('cifar-10-python/cifar-10-batches-py/test_batch')\n",
    "\n",
    "X_test = np.array(test_batch[b'data'])\n",
    "y_test = np.array(test_batch[b'labels']) # list type"
   ]
  },
  {
   "cell_type": "code",
   "execution_count": null,
   "metadata": {
    "ExecuteTime": {
     "start_time": "2021-05-15T16:58:14.464Z"
    }
   },
   "outputs": [],
   "source": [
    "label_names_batch = unpickle('cifar-10-python/cifar-10-batches-py/batches.meta')\n",
    "label_names = label_names_batch[b'label_names']\n",
    "label_names = [l.decode(\"utf-8\") for l in label_names]"
   ]
  },
  {
   "cell_type": "code",
   "execution_count": null,
   "metadata": {
    "ExecuteTime": {
     "start_time": "2021-05-15T16:58:14.469Z"
    }
   },
   "outputs": [],
   "source": [
    "print('训练集特征：',X_train.shape,'，训练集label',y_train.shape)\n",
    "print('测试集特征：',X_test.shape,'，测试集label', y_test.shape)\n",
    "print(\"类别名字：\",label_names)"
   ]
  },
  {
   "cell_type": "code",
   "execution_count": null,
   "metadata": {
    "ExecuteTime": {
     "start_time": "2021-05-15T16:58:14.472Z"
    }
   },
   "outputs": [],
   "source": [
    "num_classes = 10"
   ]
  },
  {
   "cell_type": "code",
   "execution_count": null,
   "metadata": {
    "ExecuteTime": {
     "start_time": "2021-05-15T16:58:14.477Z"
    }
   },
   "outputs": [],
   "source": [
    "X_train = X_train.reshape(-1,3,32,32)\n",
    "X_test = X_test.reshape(-1,3,32,32)"
   ]
  },
  {
   "cell_type": "code",
   "execution_count": null,
   "metadata": {
    "ExecuteTime": {
     "start_time": "2021-05-15T16:58:14.481Z"
    }
   },
   "outputs": [],
   "source": [
    "fig = plt.figure(figsize=(8,3))\n",
    "\n",
    "for i in range(num_classes):\n",
    "    ax = fig.add_subplot(2, 5, 1 + i, xticks=[], yticks=[])\n",
    "    idx = np.where(y_train[:]==i)[0]\n",
    "    features_idx = X_train[idx,::]\n",
    "    img_num = np.random.randint(features_idx.shape[0])\n",
    "    im = np.transpose(features_idx[img_num,::], (1, 2, 0))\n",
    "    ax.set_title(label_names[i])\n",
    "    plt.imshow(im)\n",
    "plt.show()"
   ]
  },
  {
   "cell_type": "code",
   "execution_count": null,
   "metadata": {
    "ExecuteTime": {
     "start_time": "2021-05-15T16:58:14.484Z"
    }
   },
   "outputs": [],
   "source": [
    "X_train = X_train.astype('float32')\n",
    "X_test = X_test.astype('float32')\n",
    "\n",
    "# 归一化\n",
    "X_train /= 255\n",
    "X_test /= 255\n",
    "\n",
    "# 将class vectors转变成binary class metrics\n",
    "y_train = np_utils.to_categorical(y_train)\n",
    "y_test = np_utils.to_categorical(y_test)"
   ]
  },
  {
   "cell_type": "code",
   "execution_count": null,
   "metadata": {
    "ExecuteTime": {
     "start_time": "2021-05-15T16:58:14.487Z"
    }
   },
   "outputs": [],
   "source": [
    "print('Backend:',keras.backend.image_data_format())"
   ]
  },
  {
   "cell_type": "code",
   "execution_count": null,
   "metadata": {
    "ExecuteTime": {
     "start_time": "2021-05-15T16:58:14.491Z"
    }
   },
   "outputs": [],
   "source": [
    "# 查看当前数据集图像的维度顺序\n",
    "X_train.shape[1:]"
   ]
  },
  {
   "cell_type": "code",
   "execution_count": null,
   "metadata": {
    "ExecuteTime": {
     "start_time": "2021-05-15T16:58:14.497Z"
    }
   },
   "outputs": [],
   "source": [
    "# Method 1: Switch backend\n",
    "keras.backend.set_image_data_format('channels_first')\n",
    "print('Backend:',keras.backend.image_data_format())\n",
    "\n",
    "# Method 2: reshape\n",
    "# X_train = X_train.reshape(-1,32,32,3)\n",
    "# X_train.shape"
   ]
  },
  {
   "cell_type": "code",
   "execution_count": null,
   "metadata": {
    "ExecuteTime": {
     "start_time": "2021-05-15T16:58:14.504Z"
    }
   },
   "outputs": [],
   "source": [
    "def base_model(opt):\n",
    "    model = Sequential()\n",
    "    \n",
    "    # 32个卷积核(feature maps),步长为1，特征图的大小不会改变（周边补充空白），\n",
    "    model.add(Conv2D(32,(3,3), padding=\"same\", input_shape=X_train.shape[1:]))\n",
    "    model.add(Activation('relu'))\n",
    "    model.add(BatchNormalization())\n",
    "    model.add(Conv2D(32,(3,3)))\n",
    "    model.add(Activation('relu'))\n",
    "    model.add(BatchNormalization())\n",
    "    # channel是在前面 (theano后台)\n",
    "    MaxPooling2D(pool_size=(2, 2), data_format=\"channels_first\")\n",
    "    model.add(Dropout(0.25))\n",
    "    \n",
    "    # 64个卷积核\n",
    "    model.add(Conv2D(64,(3,3),padding=\"same\"))\n",
    "    model.add(Activation('relu'))\n",
    "    model.add(BatchNormalization())\n",
    "    model.add(Conv2D(64,(3,3)))\n",
    "    model.add(Activation('relu'))\n",
    "    model.add(BatchNormalization())\n",
    "    MaxPooling2D(pool_size=(2, 2), data_format=\"channels_first\")\n",
    "    model.add(Dropout(0.25))\n",
    "    \n",
    "    model.add(Flatten())   # Flatten layer\n",
    "    model.add(Dense(512))  # fully connected layer with 512 units\n",
    "    model.add(Activation('relu'))\n",
    "    model.add(Dropout(0.25))\n",
    "    model.add(Dense(num_classes)) # Fully connected output layer with 10 units\n",
    "    model.add(Activation('softmax')) # softmax activation function\n",
    "    \n",
    "    model.compile(loss='categorical_crossentropy',\n",
    "                  optimizer=opt,\n",
    "                  metrics=['accuracy']) # 要优化的是准确率\n",
    "    return model"
   ]
  },
  {
   "cell_type": "code",
   "execution_count": null,
   "metadata": {
    "ExecuteTime": {
     "start_time": "2021-05-15T16:58:14.508Z"
    }
   },
   "outputs": [],
   "source": [
    "def VGG16(opt):\n",
    "    model = Sequential()\n",
    "    \n",
    "    model.add(Conv2D(64,(3,3),padding=\"same\",input_shape=X_train.shape[1:]))\n",
    "    model.add(Activation('relu'))\n",
    "    model.add(BatchNormalization())\n",
    "    model.add(Conv2D(64,(3,3)))\n",
    "    model.add(Activation('relu'))\n",
    "    model.add(BatchNormalization())\n",
    "    model.add(MaxPooling2D(pool_size=(2,2),strides=2,padding=\"same\"))\n",
    "    \n",
    "    model.add(Conv2D(128,(3,3),padding=\"same\"))\n",
    "    model.add(Activation('relu'))\n",
    "    model.add(BatchNormalization())\n",
    "    model.add(Conv2D(128,(3,3),padding=\"same\"))\n",
    "    model.add(Activation('relu'))\n",
    "    model.add(BatchNormalization())\n",
    "    model.add(MaxPooling2D(pool_size=(2,2),strides=2,padding=\"same\"))\n",
    "    \n",
    "    model.add(Conv2D(256,(3,3),padding=\"same\"))\n",
    "    model.add(Activation('relu'))\n",
    "    model.add(BatchNormalization())\n",
    "    model.add(Conv2D(256,(3,3),padding=\"same\"))\n",
    "    model.add(Activation('relu'))\n",
    "    model.add(BatchNormalization())\n",
    "    model.add(Conv2D(256,(3,3),padding=\"same\"))\n",
    "    model.add(Activation('relu'))\n",
    "    model.add(BatchNormalization())\n",
    "    model.add(MaxPooling2D(pool_size=(2,2),strides=2,padding=\"same\"))\n",
    "    \n",
    "    model.add(Conv2D(512,(3,3),padding=\"same\"))\n",
    "    model.add(Activation('relu'))\n",
    "    model.add(BatchNormalization())\n",
    "    model.add(Conv2D(512,(3,3),padding=\"same\"))\n",
    "    model.add(Activation('relu'))\n",
    "    model.add(BatchNormalization())\n",
    "    model.add(Conv2D(512,(3,3),padding=\"same\"))\n",
    "    model.add(Activation('relu'))\n",
    "    model.add(BatchNormalization())\n",
    "    model.add(MaxPooling2D(pool_size=(2,2),strides=2,padding=\"same\"))\n",
    "    \n",
    "    model.add(Conv2D(512,(3,3),padding=\"same\"))\n",
    "    model.add(Activation('relu'))\n",
    "    model.add(BatchNormalization())\n",
    "    model.add(Conv2D(512,(3,3),padding=\"same\"))\n",
    "    model.add(Activation('relu'))\n",
    "    model.add(BatchNormalization())\n",
    "    model.add(Conv2D(512,(3,3),padding=\"same\"))\n",
    "    model.add(Activation('relu'))\n",
    "    model.add(BatchNormalization())\n",
    "    model.add(MaxPooling2D(pool_size=(2,2),strides=2,padding=\"same\"))\n",
    "    \n",
    "    model.add(Flatten())\n",
    "    model.add(Dense(512))  # fully connected layer with 512 units\n",
    "    model.add(Activation('relu'))\n",
    "    model.add(Dropout(0.25))\n",
    "    model.add(Dense(512))  # fully connected layer with 512 units\n",
    "    model.add(Activation('relu'))\n",
    "    model.add(Dropout(0.25))\n",
    "    model.add(Dense(num_classes)) # Fully connected output layer with 10 units\n",
    "    model.add(Activation('softmax')) # softmax activation function\n",
    "    \n",
    "    model.compile(loss='categorical_crossentropy',\n",
    "                  optimizer=opt,\n",
    "                  metrics=['accuracy']) # 要优化的是准确率\n",
    "    return model\n",
    "    "
   ]
  },
  {
   "cell_type": "code",
   "execution_count": null,
   "metadata": {
    "ExecuteTime": {
     "start_time": "2021-05-15T16:58:14.511Z"
    },
    "scrolled": true
   },
   "outputs": [],
   "source": [
    "# 初始化 RMSprop 优化器\n",
    "opt2 = keras.optimizers.RMSprop(lr=0.0001, decay=1e-6)\n",
    "vgg16 = VGG16(opt2)\n",
    "vgg16.summary() # 打印网络结构及其内部参数"
   ]
  },
  {
   "cell_type": "code",
   "execution_count": 2,
   "metadata": {
    "ExecuteTime": {
     "end_time": "2021-05-15T16:58:02.713513Z",
     "start_time": "2021-05-15T16:58:02.699552Z"
    }
   },
   "outputs": [
    {
     "ename": "IndentationError",
     "evalue": "unindent does not match any outer indentation level (<tokenize>, line 3)",
     "output_type": "error",
     "traceback": [
      "\u001b[1;36m  File \u001b[1;32m\"<tokenize>\"\u001b[1;36m, line \u001b[1;32m3\u001b[0m\n\u001b[1;33m    model.add(Activation('relu'))\u001b[0m\n\u001b[1;37m    ^\u001b[0m\n\u001b[1;31mIndentationError\u001b[0m\u001b[1;31m:\u001b[0m unindent does not match any outer indentation level\n"
     ]
    }
   ],
   "source": [
    "def VGG19(opt):\n",
    "     model.add(Conv2D(64,(3,3),padding=\"same\",input_shape=X_train.shape[1:]))\n",
    "    model.add(Activation('relu'))\n",
    "    model.add(BatchNormalization())\n",
    "    model.add(Conv2D(64,(3,3)))\n",
    "    model.add(Activation('relu'))\n",
    "    model.add(BatchNormalization())\n",
    "    model.add(MaxPooling2D(pool_size=(2,2),strides=2,padding=\"same\"))\n",
    "    \n",
    "    model.add(Conv2D(128,(3,3),padding=\"same\"))\n",
    "    model.add(Activation('relu'))\n",
    "    model.add(BatchNormalization())\n",
    "    model.add(Conv2D(128,(3,3),padding=\"same\"))\n",
    "    model.add(Activation('relu'))\n",
    "    model.add(BatchNormalization())\n",
    "    model.add(MaxPooling2D(pool_size=(2,2),strides=2,padding=\"same\"))\n",
    "    \n",
    "    model.add(Conv2D(256,(3,3),padding=\"same\"))\n",
    "    model.add(Activation('relu'))\n",
    "    model.add(BatchNormalization())\n",
    "    model.add(Conv2D(256,(3,3),padding=\"same\"))\n",
    "    model.add(Activation('relu'))\n",
    "    model.add(BatchNormalization())\n",
    "    model.add(Conv2D(256,(3,3),padding=\"same\"))\n",
    "    model.add(Activation('relu'))\n",
    "    model.add(BatchNormalization())\n",
    "    model.add(MaxPooling2D(pool_size=(2,2),strides=2,padding=\"same\"))\n",
    "    \n",
    "    model.add(Conv2D(512,(3,3),padding=\"same\"))\n",
    "    model.add(Activation('relu'))\n",
    "    model.add(BatchNormalization())\n",
    "    model.add(Conv2D(512,(3,3),padding=\"same\"))\n",
    "    model.add(Activation('relu'))\n",
    "    model.add(BatchNormalization())\n",
    "    model.add(Conv2D(512,(3,3),padding=\"same\"))\n",
    "    model.add(Activation('relu'))\n",
    "    model.add(BatchNormalization())\n",
    "    model.add(MaxPooling2D(pool_size=(2,2),strides=2,padding=\"same\"))\n",
    "    \n",
    "    model.add(Conv2D(512,(3,3),padding=\"same\"))\n",
    "    model.add(Activation('relu'))\n",
    "    model.add(BatchNormalization())\n",
    "    model.add(Conv2D(512,(3,3),padding=\"same\"))\n",
    "    model.add(Activation('relu'))\n",
    "    model.add(BatchNormalization())\n",
    "    model.add(Conv2D(512,(3,3),padding=\"same\"))\n",
    "    model.add(Activation('relu'))\n",
    "    model.add(BatchNormalization())\n",
    "    model.add(MaxPooling2D(pool_size=(2,2),strides=2,padding=\"same\"))\n",
    "    \n",
    "    \n",
    "    model.add(Conv2D(512,(3,3),padding=\"same\"))\n",
    "    model.add(Activation('relu'))\n",
    "    model.add(BatchNormalization())\n",
    "    model.add(Conv2D(512,(3,3),padding=\"same\"))\n",
    "    model.add(Activation('relu'))\n",
    "    model.add(BatchNormalization())\n",
    "    model.add(Conv2D(512,(3,3),padding=\"same\"))\n",
    "    model.add(Activation('relu'))\n",
    "    model.add(BatchNormalization())\n",
    "    model.add(MaxPooling2D(pool_size=(2,2),strides=2,padding=\"same\"))\n",
    "    \n",
    "    model.add(Flatten())\n",
    "    model.add(Dense(512))  # fully connected layer with 512 units\n",
    "    model.add(Activation('relu'))\n",
    "    model.add(Dropout(0.25))\n",
    "    model.add(Dense(512))  # fully connected layer with 512 units\n",
    "    model.add(Activation('relu'))\n",
    "    model.add(Dropout(0.25))\n",
    "    model.add(Dense(num_classes)) # Fully connected output layer with 10 units\n",
    "    model.add(Activation('softmax')) # softmax activation function\n",
    "    \n",
    "    model.compile(loss='categorical_crossentropy',\n",
    "                  optimizer=opt,\n",
    "                  metrics=['accuracy']) # 要优化的是准确率\n",
    "    return model"
   ]
  },
  {
   "cell_type": "code",
   "execution_count": 19,
   "metadata": {
    "ExecuteTime": {
     "end_time": "2021-05-15T04:37:39.054802Z",
     "start_time": "2021-05-15T02:28:57.456087Z"
    },
    "scrolled": false
   },
   "outputs": [
    {
     "name": "stdout",
     "output_type": "stream",
     "text": [
      "Epoch 1/100\n",
      "   2/1563 [..............................] - ETA: 1:03 - loss: 3.0902 - accuracy: 0.1250WARNING:tensorflow:Callbacks method `on_train_batch_end` is slow compared to the batch time (batch time: 0.0299s vs `on_train_batch_end` time: 0.0519s). Check your callbacks.\n",
      "1563/1563 [==============================] - 131s 84ms/step - loss: 1.6222 - accuracy: 0.4019 - val_loss: 1.3278 - val_accuracy: 0.5209\n",
      "Epoch 2/100\n",
      "1563/1563 [==============================] - 130s 83ms/step - loss: 1.0602 - accuracy: 0.6267 - val_loss: 1.5124 - val_accuracy: 0.5280\n",
      "Epoch 3/100\n",
      "1563/1563 [==============================] - 131s 84ms/step - loss: 0.7985 - accuracy: 0.7254 - val_loss: 0.7666 - val_accuracy: 0.7340\n",
      "Epoch 4/100\n",
      "1563/1563 [==============================] - 130s 83ms/step - loss: 0.6166 - accuracy: 0.7908 - val_loss: 0.7366 - val_accuracy: 0.7503\n",
      "Epoch 5/100\n",
      "1563/1563 [==============================] - 130s 83ms/step - loss: 0.4870 - accuracy: 0.8373 - val_loss: 0.7701 - val_accuracy: 0.7456\n",
      "Epoch 6/100\n",
      "1563/1563 [==============================] - 130s 83ms/step - loss: 0.3786 - accuracy: 0.8751 - val_loss: 0.7852 - val_accuracy: 0.7577\n",
      "Epoch 7/100\n",
      "1563/1563 [==============================] - 131s 84ms/step - loss: 0.2991 - accuracy: 0.9033 - val_loss: 0.8083 - val_accuracy: 0.7808\n",
      "Epoch 8/100\n",
      "1563/1563 [==============================] - 131s 84ms/step - loss: 0.2407 - accuracy: 0.9233 - val_loss: 0.7700 - val_accuracy: 0.7992\n",
      "Epoch 9/100\n",
      "1563/1563 [==============================] - 139s 89ms/step - loss: 0.2015 - accuracy: 0.9370 - val_loss: 0.8427 - val_accuracy: 0.7911\n",
      "Epoch 10/100\n",
      "1563/1563 [==============================] - 144s 92ms/step - loss: 0.1684 - accuracy: 0.9492 - val_loss: 0.8486 - val_accuracy: 0.7967\n",
      "Epoch 11/100\n",
      "1563/1563 [==============================] - 141s 90ms/step - loss: 0.1485 - accuracy: 0.9560 - val_loss: 1.0247 - val_accuracy: 0.7908\n",
      "Epoch 12/100\n",
      "1563/1563 [==============================] - 142s 91ms/step - loss: 0.1264 - accuracy: 0.9632 - val_loss: 1.2030 - val_accuracy: 0.7826\n",
      "Epoch 13/100\n",
      "1563/1563 [==============================] - 140s 90ms/step - loss: 0.1203 - accuracy: 0.9659 - val_loss: 1.0332 - val_accuracy: 0.7976\n",
      "Epoch 14/100\n",
      "1563/1563 [==============================] - 139s 89ms/step - loss: 0.1074 - accuracy: 0.9699 - val_loss: 1.0497 - val_accuracy: 0.7996\n",
      "Epoch 15/100\n",
      "1563/1563 [==============================] - 136s 87ms/step - loss: 0.1009 - accuracy: 0.9731 - val_loss: 1.0996 - val_accuracy: 0.8093\n",
      "Epoch 16/100\n",
      "1563/1563 [==============================] - 148s 95ms/step - loss: 0.0937 - accuracy: 0.9745 - val_loss: 1.0787 - val_accuracy: 0.8143\n",
      "Epoch 17/100\n",
      "1563/1563 [==============================] - 134s 86ms/step - loss: 0.0875 - accuracy: 0.9761 - val_loss: 1.0719 - val_accuracy: 0.8068\n",
      "Epoch 18/100\n",
      "1563/1563 [==============================] - 134s 86ms/step - loss: 0.0838 - accuracy: 0.9780 - val_loss: 1.4305 - val_accuracy: 0.7811\n",
      "Epoch 19/100\n",
      "1563/1563 [==============================] - 133s 85ms/step - loss: 0.0779 - accuracy: 0.9795 - val_loss: 1.1244 - val_accuracy: 0.8157\n",
      "Epoch 20/100\n",
      "1563/1563 [==============================] - 133s 85ms/step - loss: 0.0751 - accuracy: 0.9802 - val_loss: 1.1178 - val_accuracy: 0.8089\n",
      "Epoch 21/100\n",
      "1563/1563 [==============================] - 135s 86ms/step - loss: 0.0733 - accuracy: 0.9815 - val_loss: 1.2651 - val_accuracy: 0.7985\n",
      "Epoch 22/100\n",
      "1563/1563 [==============================] - 136s 87ms/step - loss: 0.0669 - accuracy: 0.9820 - val_loss: 1.3294 - val_accuracy: 0.8063\n",
      "Epoch 23/100\n",
      "1563/1563 [==============================] - 143s 92ms/step - loss: 0.0669 - accuracy: 0.9832 - val_loss: 1.3578 - val_accuracy: 0.8084\n",
      "Epoch 24/100\n",
      "1563/1563 [==============================] - 144s 92ms/step - loss: 0.0641 - accuracy: 0.9845 - val_loss: 1.3387 - val_accuracy: 0.8084\n",
      "Epoch 25/100\n",
      "1563/1563 [==============================] - 146s 93ms/step - loss: 0.0612 - accuracy: 0.9849 - val_loss: 1.1089 - val_accuracy: 0.8223\n",
      "Epoch 26/100\n",
      "1563/1563 [==============================] - 142s 91ms/step - loss: 0.0559 - accuracy: 0.9857 - val_loss: 1.4525 - val_accuracy: 0.8086\n",
      "Epoch 27/100\n",
      "1563/1563 [==============================] - 145s 93ms/step - loss: 0.0553 - accuracy: 0.9862 - val_loss: 1.2102 - val_accuracy: 0.8184\n",
      "Epoch 28/100\n",
      "1563/1563 [==============================] - 148s 95ms/step - loss: 0.0524 - accuracy: 0.9867 - val_loss: 1.1629 - val_accuracy: 0.8159\n",
      "Epoch 29/100\n",
      "1563/1563 [==============================] - 140s 90ms/step - loss: 0.0541 - accuracy: 0.9872 - val_loss: 1.2412 - val_accuracy: 0.8125\n",
      "Epoch 30/100\n",
      "1563/1563 [==============================] - 142s 91ms/step - loss: 0.0537 - accuracy: 0.9874 - val_loss: 1.3070 - val_accuracy: 0.8061\n",
      "Epoch 31/100\n",
      "1563/1563 [==============================] - 144s 92ms/step - loss: 0.0534 - accuracy: 0.9875 - val_loss: 1.3301 - val_accuracy: 0.8123\n",
      "Epoch 32/100\n",
      "1563/1563 [==============================] - 137s 87ms/step - loss: 0.0510 - accuracy: 0.9876 - val_loss: 1.4757 - val_accuracy: 0.8123\n",
      "Epoch 33/100\n",
      "1563/1563 [==============================] - 146s 93ms/step - loss: 0.0562 - accuracy: 0.9879 - val_loss: 1.4299 - val_accuracy: 0.8156\n",
      "Epoch 34/100\n",
      "1563/1563 [==============================] - 137s 88ms/step - loss: 0.0499 - accuracy: 0.9883 - val_loss: 1.3764 - val_accuracy: 0.8070\n",
      "Epoch 35/100\n",
      "1563/1563 [==============================] - 145s 93ms/step - loss: 0.0556 - accuracy: 0.9888 - val_loss: 1.4737 - val_accuracy: 0.8158\n",
      "Epoch 36/100\n",
      "1563/1563 [==============================] - 146s 93ms/step - loss: 0.0500 - accuracy: 0.9891 - val_loss: 1.4264 - val_accuracy: 0.8107\n",
      "Epoch 37/100\n",
      "1563/1563 [==============================] - 143s 91ms/step - loss: 0.0482 - accuracy: 0.9898 - val_loss: 1.4105 - val_accuracy: 0.8146\n",
      "Epoch 38/100\n",
      "1563/1563 [==============================] - 148s 95ms/step - loss: 0.0455 - accuracy: 0.9899 - val_loss: 1.2903 - val_accuracy: 0.8150\n",
      "Epoch 39/100\n",
      "1563/1563 [==============================] - 147s 94ms/step - loss: 0.0471 - accuracy: 0.9894 - val_loss: 1.5841 - val_accuracy: 0.8160\n",
      "Epoch 40/100\n",
      "1563/1563 [==============================] - 142s 91ms/step - loss: 0.0461 - accuracy: 0.9896 - val_loss: 1.3908 - val_accuracy: 0.8187\n",
      "Epoch 41/100\n",
      "1563/1563 [==============================] - 134s 85ms/step - loss: 0.0458 - accuracy: 0.9903 - val_loss: 1.4260 - val_accuracy: 0.8200\n",
      "Epoch 42/100\n",
      "1563/1563 [==============================] - 135s 87ms/step - loss: 0.0469 - accuracy: 0.9897 - val_loss: 1.6168 - val_accuracy: 0.8091\n",
      "Epoch 43/100\n",
      "1563/1563 [==============================] - 135s 86ms/step - loss: 0.0461 - accuracy: 0.9908 - val_loss: 1.7547 - val_accuracy: 0.8174\n",
      "Epoch 44/100\n",
      "1563/1563 [==============================] - 135s 87ms/step - loss: 0.0472 - accuracy: 0.9909 - val_loss: 1.3570 - val_accuracy: 0.8213\n",
      "Epoch 45/100\n",
      "1563/1563 [==============================] - 134s 86ms/step - loss: 0.0405 - accuracy: 0.9906 - val_loss: 1.3364 - val_accuracy: 0.8146\n",
      "Epoch 46/100\n",
      "1563/1563 [==============================] - 133s 85ms/step - loss: 0.0500 - accuracy: 0.9906 - val_loss: 1.2216 - val_accuracy: 0.8192\n",
      "Epoch 47/100\n",
      "1563/1563 [==============================] - 133s 85ms/step - loss: 0.0416 - accuracy: 0.9916 - val_loss: 1.5002 - val_accuracy: 0.8189\n",
      "Epoch 48/100\n",
      "1563/1563 [==============================] - 133s 85ms/step - loss: 0.0352 - accuracy: 0.9920 - val_loss: 1.7973 - val_accuracy: 0.8216\n",
      "Epoch 49/100\n",
      "1563/1563 [==============================] - 132s 85ms/step - loss: 0.0395 - accuracy: 0.9924 - val_loss: 1.4471 - val_accuracy: 0.8231\n",
      "Epoch 50/100\n",
      "1563/1563 [==============================] - 133s 85ms/step - loss: 0.0389 - accuracy: 0.9924 - val_loss: 1.5878 - val_accuracy: 0.8212\n",
      "Epoch 51/100\n",
      "1563/1563 [==============================] - 133s 85ms/step - loss: 0.0415 - accuracy: 0.9921 - val_loss: 1.8929 - val_accuracy: 0.8223\n",
      "Epoch 52/100\n",
      "1563/1563 [==============================] - 133s 85ms/step - loss: 0.0412 - accuracy: 0.9924 - val_loss: 1.5256 - val_accuracy: 0.8249\n",
      "Epoch 53/100\n",
      "1563/1563 [==============================] - 133s 85ms/step - loss: 0.0473 - accuracy: 0.9918 - val_loss: 1.7447 - val_accuracy: 0.8221\n",
      "Epoch 54/100\n",
      "1563/1563 [==============================] - 132s 85ms/step - loss: 0.0430 - accuracy: 0.9927 - val_loss: 1.4561 - val_accuracy: 0.8206\n",
      "Epoch 55/100\n",
      "1563/1563 [==============================] - 133s 85ms/step - loss: 0.0406 - accuracy: 0.9914 - val_loss: 1.6695 - val_accuracy: 0.8274\n",
      "Epoch 56/100\n",
      "1563/1563 [==============================] - 132s 85ms/step - loss: 0.0481 - accuracy: 0.9924 - val_loss: 1.6047 - val_accuracy: 0.8245\n",
      "Epoch 57/100\n",
      " 187/1563 [==>...........................] - ETA: 1:52 - loss: 0.0226 - accuracy: 0.9947"
     ]
    },
    {
     "ename": "KeyboardInterrupt",
     "evalue": "",
     "output_type": "error",
     "traceback": [
      "\u001b[1;31m---------------------------------------------------------------------------\u001b[0m",
      "\u001b[1;31mKeyboardInterrupt\u001b[0m                         Traceback (most recent call last)",
      "\u001b[1;32m<ipython-input-19-410790e9a6ad>\u001b[0m in \u001b[0;36m<module>\u001b[1;34m\u001b[0m\n\u001b[1;32m----> 1\u001b[1;33m history = vgg16.fit(X_train, y_train, \n\u001b[0m\u001b[0;32m      2\u001b[0m         \u001b[0mepochs\u001b[0m \u001b[1;33m=\u001b[0m \u001b[1;36m100\u001b[0m\u001b[1;33m,\u001b[0m \u001b[0mbatch_size\u001b[0m \u001b[1;33m=\u001b[0m \u001b[1;36m32\u001b[0m\u001b[1;33m,\u001b[0m\u001b[1;33m\u001b[0m\u001b[1;33m\u001b[0m\u001b[0m\n\u001b[0;32m      3\u001b[0m         \u001b[0mvalidation_data\u001b[0m\u001b[1;33m=\u001b[0m\u001b[1;33m(\u001b[0m\u001b[0mX_test\u001b[0m\u001b[1;33m,\u001b[0m\u001b[0my_test\u001b[0m\u001b[1;33m)\u001b[0m\u001b[1;33m,\u001b[0m\u001b[1;33m\u001b[0m\u001b[1;33m\u001b[0m\u001b[0m\n\u001b[0;32m      4\u001b[0m         shuffle=True)\n",
      "\u001b[1;32m~\\AppData\\Roaming\\Python\\Python38\\site-packages\\tensorflow\\python\\keras\\engine\\training.py\u001b[0m in \u001b[0;36m_method_wrapper\u001b[1;34m(self, *args, **kwargs)\u001b[0m\n\u001b[0;32m    106\u001b[0m   \u001b[1;32mdef\u001b[0m \u001b[0m_method_wrapper\u001b[0m\u001b[1;33m(\u001b[0m\u001b[0mself\u001b[0m\u001b[1;33m,\u001b[0m \u001b[1;33m*\u001b[0m\u001b[0margs\u001b[0m\u001b[1;33m,\u001b[0m \u001b[1;33m**\u001b[0m\u001b[0mkwargs\u001b[0m\u001b[1;33m)\u001b[0m\u001b[1;33m:\u001b[0m\u001b[1;33m\u001b[0m\u001b[1;33m\u001b[0m\u001b[0m\n\u001b[0;32m    107\u001b[0m     \u001b[1;32mif\u001b[0m \u001b[1;32mnot\u001b[0m \u001b[0mself\u001b[0m\u001b[1;33m.\u001b[0m\u001b[0m_in_multi_worker_mode\u001b[0m\u001b[1;33m(\u001b[0m\u001b[1;33m)\u001b[0m\u001b[1;33m:\u001b[0m  \u001b[1;31m# pylint: disable=protected-access\u001b[0m\u001b[1;33m\u001b[0m\u001b[1;33m\u001b[0m\u001b[0m\n\u001b[1;32m--> 108\u001b[1;33m       \u001b[1;32mreturn\u001b[0m \u001b[0mmethod\u001b[0m\u001b[1;33m(\u001b[0m\u001b[0mself\u001b[0m\u001b[1;33m,\u001b[0m \u001b[1;33m*\u001b[0m\u001b[0margs\u001b[0m\u001b[1;33m,\u001b[0m \u001b[1;33m**\u001b[0m\u001b[0mkwargs\u001b[0m\u001b[1;33m)\u001b[0m\u001b[1;33m\u001b[0m\u001b[1;33m\u001b[0m\u001b[0m\n\u001b[0m\u001b[0;32m    109\u001b[0m \u001b[1;33m\u001b[0m\u001b[0m\n\u001b[0;32m    110\u001b[0m     \u001b[1;31m# Running inside `run_distribute_coordinator` already.\u001b[0m\u001b[1;33m\u001b[0m\u001b[1;33m\u001b[0m\u001b[1;33m\u001b[0m\u001b[0m\n",
      "\u001b[1;32m~\\AppData\\Roaming\\Python\\Python38\\site-packages\\tensorflow\\python\\keras\\engine\\training.py\u001b[0m in \u001b[0;36mfit\u001b[1;34m(self, x, y, batch_size, epochs, verbose, callbacks, validation_split, validation_data, shuffle, class_weight, sample_weight, initial_epoch, steps_per_epoch, validation_steps, validation_batch_size, validation_freq, max_queue_size, workers, use_multiprocessing)\u001b[0m\n\u001b[0;32m   1101\u001b[0m               \u001b[0mlogs\u001b[0m \u001b[1;33m=\u001b[0m \u001b[0mtmp_logs\u001b[0m  \u001b[1;31m# No error, now safe to assign to logs.\u001b[0m\u001b[1;33m\u001b[0m\u001b[1;33m\u001b[0m\u001b[0m\n\u001b[0;32m   1102\u001b[0m               \u001b[0mend_step\u001b[0m \u001b[1;33m=\u001b[0m \u001b[0mstep\u001b[0m \u001b[1;33m+\u001b[0m \u001b[0mdata_handler\u001b[0m\u001b[1;33m.\u001b[0m\u001b[0mstep_increment\u001b[0m\u001b[1;33m\u001b[0m\u001b[1;33m\u001b[0m\u001b[0m\n\u001b[1;32m-> 1103\u001b[1;33m               \u001b[0mcallbacks\u001b[0m\u001b[1;33m.\u001b[0m\u001b[0mon_train_batch_end\u001b[0m\u001b[1;33m(\u001b[0m\u001b[0mend_step\u001b[0m\u001b[1;33m,\u001b[0m \u001b[0mlogs\u001b[0m\u001b[1;33m)\u001b[0m\u001b[1;33m\u001b[0m\u001b[1;33m\u001b[0m\u001b[0m\n\u001b[0m\u001b[0;32m   1104\u001b[0m         \u001b[0mepoch_logs\u001b[0m \u001b[1;33m=\u001b[0m \u001b[0mcopy\u001b[0m\u001b[1;33m.\u001b[0m\u001b[0mcopy\u001b[0m\u001b[1;33m(\u001b[0m\u001b[0mlogs\u001b[0m\u001b[1;33m)\u001b[0m\u001b[1;33m\u001b[0m\u001b[1;33m\u001b[0m\u001b[0m\n\u001b[0;32m   1105\u001b[0m \u001b[1;33m\u001b[0m\u001b[0m\n",
      "\u001b[1;32m~\\AppData\\Roaming\\Python\\Python38\\site-packages\\tensorflow\\python\\keras\\callbacks.py\u001b[0m in \u001b[0;36mon_train_batch_end\u001b[1;34m(self, batch, logs)\u001b[0m\n\u001b[0;32m    438\u001b[0m     \"\"\"\n\u001b[0;32m    439\u001b[0m     \u001b[1;32mif\u001b[0m \u001b[0mself\u001b[0m\u001b[1;33m.\u001b[0m\u001b[0m_should_call_train_batch_hooks\u001b[0m\u001b[1;33m:\u001b[0m\u001b[1;33m\u001b[0m\u001b[1;33m\u001b[0m\u001b[0m\n\u001b[1;32m--> 440\u001b[1;33m       \u001b[0mself\u001b[0m\u001b[1;33m.\u001b[0m\u001b[0m_call_batch_hook\u001b[0m\u001b[1;33m(\u001b[0m\u001b[0mModeKeys\u001b[0m\u001b[1;33m.\u001b[0m\u001b[0mTRAIN\u001b[0m\u001b[1;33m,\u001b[0m \u001b[1;34m'end'\u001b[0m\u001b[1;33m,\u001b[0m \u001b[0mbatch\u001b[0m\u001b[1;33m,\u001b[0m \u001b[0mlogs\u001b[0m\u001b[1;33m=\u001b[0m\u001b[0mlogs\u001b[0m\u001b[1;33m)\u001b[0m\u001b[1;33m\u001b[0m\u001b[1;33m\u001b[0m\u001b[0m\n\u001b[0m\u001b[0;32m    441\u001b[0m \u001b[1;33m\u001b[0m\u001b[0m\n\u001b[0;32m    442\u001b[0m   \u001b[1;32mdef\u001b[0m \u001b[0mon_test_batch_begin\u001b[0m\u001b[1;33m(\u001b[0m\u001b[0mself\u001b[0m\u001b[1;33m,\u001b[0m \u001b[0mbatch\u001b[0m\u001b[1;33m,\u001b[0m \u001b[0mlogs\u001b[0m\u001b[1;33m=\u001b[0m\u001b[1;32mNone\u001b[0m\u001b[1;33m)\u001b[0m\u001b[1;33m:\u001b[0m\u001b[1;33m\u001b[0m\u001b[1;33m\u001b[0m\u001b[0m\n",
      "\u001b[1;32m~\\AppData\\Roaming\\Python\\Python38\\site-packages\\tensorflow\\python\\keras\\callbacks.py\u001b[0m in \u001b[0;36m_call_batch_hook\u001b[1;34m(self, mode, hook, batch, logs)\u001b[0m\n\u001b[0;32m    287\u001b[0m       \u001b[0mself\u001b[0m\u001b[1;33m.\u001b[0m\u001b[0m_call_batch_begin_hook\u001b[0m\u001b[1;33m(\u001b[0m\u001b[0mmode\u001b[0m\u001b[1;33m,\u001b[0m \u001b[0mbatch\u001b[0m\u001b[1;33m,\u001b[0m \u001b[0mlogs\u001b[0m\u001b[1;33m)\u001b[0m\u001b[1;33m\u001b[0m\u001b[1;33m\u001b[0m\u001b[0m\n\u001b[0;32m    288\u001b[0m     \u001b[1;32melif\u001b[0m \u001b[0mhook\u001b[0m \u001b[1;33m==\u001b[0m \u001b[1;34m'end'\u001b[0m\u001b[1;33m:\u001b[0m\u001b[1;33m\u001b[0m\u001b[1;33m\u001b[0m\u001b[0m\n\u001b[1;32m--> 289\u001b[1;33m       \u001b[0mself\u001b[0m\u001b[1;33m.\u001b[0m\u001b[0m_call_batch_end_hook\u001b[0m\u001b[1;33m(\u001b[0m\u001b[0mmode\u001b[0m\u001b[1;33m,\u001b[0m \u001b[0mbatch\u001b[0m\u001b[1;33m,\u001b[0m \u001b[0mlogs\u001b[0m\u001b[1;33m)\u001b[0m\u001b[1;33m\u001b[0m\u001b[1;33m\u001b[0m\u001b[0m\n\u001b[0m\u001b[0;32m    290\u001b[0m     \u001b[1;32melse\u001b[0m\u001b[1;33m:\u001b[0m\u001b[1;33m\u001b[0m\u001b[1;33m\u001b[0m\u001b[0m\n\u001b[0;32m    291\u001b[0m       \u001b[1;32mraise\u001b[0m \u001b[0mValueError\u001b[0m\u001b[1;33m(\u001b[0m\u001b[1;34m'Unrecognized hook: {}'\u001b[0m\u001b[1;33m.\u001b[0m\u001b[0mformat\u001b[0m\u001b[1;33m(\u001b[0m\u001b[0mhook\u001b[0m\u001b[1;33m)\u001b[0m\u001b[1;33m)\u001b[0m\u001b[1;33m\u001b[0m\u001b[1;33m\u001b[0m\u001b[0m\n",
      "\u001b[1;32m~\\AppData\\Roaming\\Python\\Python38\\site-packages\\tensorflow\\python\\keras\\callbacks.py\u001b[0m in \u001b[0;36m_call_batch_end_hook\u001b[1;34m(self, mode, batch, logs)\u001b[0m\n\u001b[0;32m    307\u001b[0m       \u001b[0mbatch_time\u001b[0m \u001b[1;33m=\u001b[0m \u001b[0mtime\u001b[0m\u001b[1;33m.\u001b[0m\u001b[0mtime\u001b[0m\u001b[1;33m(\u001b[0m\u001b[1;33m)\u001b[0m \u001b[1;33m-\u001b[0m \u001b[0mself\u001b[0m\u001b[1;33m.\u001b[0m\u001b[0m_batch_start_time\u001b[0m\u001b[1;33m\u001b[0m\u001b[1;33m\u001b[0m\u001b[0m\n\u001b[0;32m    308\u001b[0m \u001b[1;33m\u001b[0m\u001b[0m\n\u001b[1;32m--> 309\u001b[1;33m     \u001b[0mself\u001b[0m\u001b[1;33m.\u001b[0m\u001b[0m_call_batch_hook_helper\u001b[0m\u001b[1;33m(\u001b[0m\u001b[0mhook_name\u001b[0m\u001b[1;33m,\u001b[0m \u001b[0mbatch\u001b[0m\u001b[1;33m,\u001b[0m \u001b[0mlogs\u001b[0m\u001b[1;33m)\u001b[0m\u001b[1;33m\u001b[0m\u001b[1;33m\u001b[0m\u001b[0m\n\u001b[0m\u001b[0;32m    310\u001b[0m \u001b[1;33m\u001b[0m\u001b[0m\n\u001b[0;32m    311\u001b[0m     \u001b[1;32mif\u001b[0m \u001b[0mself\u001b[0m\u001b[1;33m.\u001b[0m\u001b[0m_check_timing\u001b[0m\u001b[1;33m:\u001b[0m\u001b[1;33m\u001b[0m\u001b[1;33m\u001b[0m\u001b[0m\n",
      "\u001b[1;32m~\\AppData\\Roaming\\Python\\Python38\\site-packages\\tensorflow\\python\\keras\\callbacks.py\u001b[0m in \u001b[0;36m_call_batch_hook_helper\u001b[1;34m(self, hook_name, batch, logs)\u001b[0m\n\u001b[0;32m    340\u001b[0m       \u001b[0mhook\u001b[0m \u001b[1;33m=\u001b[0m \u001b[0mgetattr\u001b[0m\u001b[1;33m(\u001b[0m\u001b[0mcallback\u001b[0m\u001b[1;33m,\u001b[0m \u001b[0mhook_name\u001b[0m\u001b[1;33m)\u001b[0m\u001b[1;33m\u001b[0m\u001b[1;33m\u001b[0m\u001b[0m\n\u001b[0;32m    341\u001b[0m       \u001b[1;32mif\u001b[0m \u001b[0mgetattr\u001b[0m\u001b[1;33m(\u001b[0m\u001b[0mcallback\u001b[0m\u001b[1;33m,\u001b[0m \u001b[1;34m'_supports_tf_logs'\u001b[0m\u001b[1;33m,\u001b[0m \u001b[1;32mFalse\u001b[0m\u001b[1;33m)\u001b[0m\u001b[1;33m:\u001b[0m\u001b[1;33m\u001b[0m\u001b[1;33m\u001b[0m\u001b[0m\n\u001b[1;32m--> 342\u001b[1;33m         \u001b[0mhook\u001b[0m\u001b[1;33m(\u001b[0m\u001b[0mbatch\u001b[0m\u001b[1;33m,\u001b[0m \u001b[0mlogs\u001b[0m\u001b[1;33m)\u001b[0m\u001b[1;33m\u001b[0m\u001b[1;33m\u001b[0m\u001b[0m\n\u001b[0m\u001b[0;32m    343\u001b[0m       \u001b[1;32melse\u001b[0m\u001b[1;33m:\u001b[0m\u001b[1;33m\u001b[0m\u001b[1;33m\u001b[0m\u001b[0m\n\u001b[0;32m    344\u001b[0m         \u001b[1;32mif\u001b[0m \u001b[0mnumpy_logs\u001b[0m \u001b[1;32mis\u001b[0m \u001b[1;32mNone\u001b[0m\u001b[1;33m:\u001b[0m  \u001b[1;31m# Only convert once.\u001b[0m\u001b[1;33m\u001b[0m\u001b[1;33m\u001b[0m\u001b[0m\n",
      "\u001b[1;32m~\\AppData\\Roaming\\Python\\Python38\\site-packages\\tensorflow\\python\\keras\\callbacks.py\u001b[0m in \u001b[0;36mon_train_batch_end\u001b[1;34m(self, batch, logs)\u001b[0m\n\u001b[0;32m    959\u001b[0m \u001b[1;33m\u001b[0m\u001b[0m\n\u001b[0;32m    960\u001b[0m   \u001b[1;32mdef\u001b[0m \u001b[0mon_train_batch_end\u001b[0m\u001b[1;33m(\u001b[0m\u001b[0mself\u001b[0m\u001b[1;33m,\u001b[0m \u001b[0mbatch\u001b[0m\u001b[1;33m,\u001b[0m \u001b[0mlogs\u001b[0m\u001b[1;33m=\u001b[0m\u001b[1;32mNone\u001b[0m\u001b[1;33m)\u001b[0m\u001b[1;33m:\u001b[0m\u001b[1;33m\u001b[0m\u001b[1;33m\u001b[0m\u001b[0m\n\u001b[1;32m--> 961\u001b[1;33m     \u001b[0mself\u001b[0m\u001b[1;33m.\u001b[0m\u001b[0m_batch_update_progbar\u001b[0m\u001b[1;33m(\u001b[0m\u001b[0mbatch\u001b[0m\u001b[1;33m,\u001b[0m \u001b[0mlogs\u001b[0m\u001b[1;33m)\u001b[0m\u001b[1;33m\u001b[0m\u001b[1;33m\u001b[0m\u001b[0m\n\u001b[0m\u001b[0;32m    962\u001b[0m \u001b[1;33m\u001b[0m\u001b[0m\n\u001b[0;32m    963\u001b[0m   \u001b[1;32mdef\u001b[0m \u001b[0mon_test_batch_end\u001b[0m\u001b[1;33m(\u001b[0m\u001b[0mself\u001b[0m\u001b[1;33m,\u001b[0m \u001b[0mbatch\u001b[0m\u001b[1;33m,\u001b[0m \u001b[0mlogs\u001b[0m\u001b[1;33m=\u001b[0m\u001b[1;32mNone\u001b[0m\u001b[1;33m)\u001b[0m\u001b[1;33m:\u001b[0m\u001b[1;33m\u001b[0m\u001b[1;33m\u001b[0m\u001b[0m\n",
      "\u001b[1;32m~\\AppData\\Roaming\\Python\\Python38\\site-packages\\tensorflow\\python\\keras\\callbacks.py\u001b[0m in \u001b[0;36m_batch_update_progbar\u001b[1;34m(self, batch, logs)\u001b[0m\n\u001b[0;32m   1014\u001b[0m     \u001b[1;32mif\u001b[0m \u001b[0mself\u001b[0m\u001b[1;33m.\u001b[0m\u001b[0mverbose\u001b[0m \u001b[1;33m==\u001b[0m \u001b[1;36m1\u001b[0m\u001b[1;33m:\u001b[0m\u001b[1;33m\u001b[0m\u001b[1;33m\u001b[0m\u001b[0m\n\u001b[0;32m   1015\u001b[0m       \u001b[1;31m# Only block async when verbose = 1.\u001b[0m\u001b[1;33m\u001b[0m\u001b[1;33m\u001b[0m\u001b[1;33m\u001b[0m\u001b[0m\n\u001b[1;32m-> 1016\u001b[1;33m       \u001b[0mlogs\u001b[0m \u001b[1;33m=\u001b[0m \u001b[0mtf_utils\u001b[0m\u001b[1;33m.\u001b[0m\u001b[0mto_numpy_or_python_type\u001b[0m\u001b[1;33m(\u001b[0m\u001b[0mlogs\u001b[0m\u001b[1;33m)\u001b[0m\u001b[1;33m\u001b[0m\u001b[1;33m\u001b[0m\u001b[0m\n\u001b[0m\u001b[0;32m   1017\u001b[0m       \u001b[0mself\u001b[0m\u001b[1;33m.\u001b[0m\u001b[0mprogbar\u001b[0m\u001b[1;33m.\u001b[0m\u001b[0mupdate\u001b[0m\u001b[1;33m(\u001b[0m\u001b[0mself\u001b[0m\u001b[1;33m.\u001b[0m\u001b[0mseen\u001b[0m\u001b[1;33m,\u001b[0m \u001b[0mlist\u001b[0m\u001b[1;33m(\u001b[0m\u001b[0mlogs\u001b[0m\u001b[1;33m.\u001b[0m\u001b[0mitems\u001b[0m\u001b[1;33m(\u001b[0m\u001b[1;33m)\u001b[0m\u001b[1;33m)\u001b[0m\u001b[1;33m,\u001b[0m \u001b[0mfinalize\u001b[0m\u001b[1;33m=\u001b[0m\u001b[1;32mFalse\u001b[0m\u001b[1;33m)\u001b[0m\u001b[1;33m\u001b[0m\u001b[1;33m\u001b[0m\u001b[0m\n\u001b[0;32m   1018\u001b[0m \u001b[1;33m\u001b[0m\u001b[0m\n",
      "\u001b[1;32m~\\AppData\\Roaming\\Python\\Python38\\site-packages\\tensorflow\\python\\keras\\utils\\tf_utils.py\u001b[0m in \u001b[0;36mto_numpy_or_python_type\u001b[1;34m(tensors)\u001b[0m\n\u001b[0;32m    535\u001b[0m     \u001b[1;32mreturn\u001b[0m \u001b[0mt\u001b[0m  \u001b[1;31m# Don't turn ragged or sparse tensors to NumPy.\u001b[0m\u001b[1;33m\u001b[0m\u001b[1;33m\u001b[0m\u001b[0m\n\u001b[0;32m    536\u001b[0m \u001b[1;33m\u001b[0m\u001b[0m\n\u001b[1;32m--> 537\u001b[1;33m   \u001b[1;32mreturn\u001b[0m \u001b[0mnest\u001b[0m\u001b[1;33m.\u001b[0m\u001b[0mmap_structure\u001b[0m\u001b[1;33m(\u001b[0m\u001b[0m_to_single_numpy_or_python_type\u001b[0m\u001b[1;33m,\u001b[0m \u001b[0mtensors\u001b[0m\u001b[1;33m)\u001b[0m\u001b[1;33m\u001b[0m\u001b[1;33m\u001b[0m\u001b[0m\n\u001b[0m\u001b[0;32m    538\u001b[0m \u001b[1;33m\u001b[0m\u001b[0m\n\u001b[0;32m    539\u001b[0m \u001b[1;33m\u001b[0m\u001b[0m\n",
      "\u001b[1;32m~\\AppData\\Roaming\\Python\\Python38\\site-packages\\tensorflow\\python\\util\\nest.py\u001b[0m in \u001b[0;36mmap_structure\u001b[1;34m(func, *structure, **kwargs)\u001b[0m\n\u001b[0;32m    633\u001b[0m \u001b[1;33m\u001b[0m\u001b[0m\n\u001b[0;32m    634\u001b[0m   return pack_sequence_as(\n\u001b[1;32m--> 635\u001b[1;33m       \u001b[0mstructure\u001b[0m\u001b[1;33m[\u001b[0m\u001b[1;36m0\u001b[0m\u001b[1;33m]\u001b[0m\u001b[1;33m,\u001b[0m \u001b[1;33m[\u001b[0m\u001b[0mfunc\u001b[0m\u001b[1;33m(\u001b[0m\u001b[1;33m*\u001b[0m\u001b[0mx\u001b[0m\u001b[1;33m)\u001b[0m \u001b[1;32mfor\u001b[0m \u001b[0mx\u001b[0m \u001b[1;32min\u001b[0m \u001b[0mentries\u001b[0m\u001b[1;33m]\u001b[0m\u001b[1;33m,\u001b[0m\u001b[1;33m\u001b[0m\u001b[1;33m\u001b[0m\u001b[0m\n\u001b[0m\u001b[0;32m    636\u001b[0m       expand_composites=expand_composites)\n\u001b[0;32m    637\u001b[0m \u001b[1;33m\u001b[0m\u001b[0m\n",
      "\u001b[1;32m~\\AppData\\Roaming\\Python\\Python38\\site-packages\\tensorflow\\python\\util\\nest.py\u001b[0m in \u001b[0;36m<listcomp>\u001b[1;34m(.0)\u001b[0m\n\u001b[0;32m    633\u001b[0m \u001b[1;33m\u001b[0m\u001b[0m\n\u001b[0;32m    634\u001b[0m   return pack_sequence_as(\n\u001b[1;32m--> 635\u001b[1;33m       \u001b[0mstructure\u001b[0m\u001b[1;33m[\u001b[0m\u001b[1;36m0\u001b[0m\u001b[1;33m]\u001b[0m\u001b[1;33m,\u001b[0m \u001b[1;33m[\u001b[0m\u001b[0mfunc\u001b[0m\u001b[1;33m(\u001b[0m\u001b[1;33m*\u001b[0m\u001b[0mx\u001b[0m\u001b[1;33m)\u001b[0m \u001b[1;32mfor\u001b[0m \u001b[0mx\u001b[0m \u001b[1;32min\u001b[0m \u001b[0mentries\u001b[0m\u001b[1;33m]\u001b[0m\u001b[1;33m,\u001b[0m\u001b[1;33m\u001b[0m\u001b[1;33m\u001b[0m\u001b[0m\n\u001b[0m\u001b[0;32m    636\u001b[0m       expand_composites=expand_composites)\n\u001b[0;32m    637\u001b[0m \u001b[1;33m\u001b[0m\u001b[0m\n",
      "\u001b[1;32m~\\AppData\\Roaming\\Python\\Python38\\site-packages\\tensorflow\\python\\keras\\utils\\tf_utils.py\u001b[0m in \u001b[0;36m_to_single_numpy_or_python_type\u001b[1;34m(t)\u001b[0m\n\u001b[0;32m    531\u001b[0m   \u001b[1;32mdef\u001b[0m \u001b[0m_to_single_numpy_or_python_type\u001b[0m\u001b[1;33m(\u001b[0m\u001b[0mt\u001b[0m\u001b[1;33m)\u001b[0m\u001b[1;33m:\u001b[0m\u001b[1;33m\u001b[0m\u001b[1;33m\u001b[0m\u001b[0m\n\u001b[0;32m    532\u001b[0m     \u001b[1;32mif\u001b[0m \u001b[0misinstance\u001b[0m\u001b[1;33m(\u001b[0m\u001b[0mt\u001b[0m\u001b[1;33m,\u001b[0m \u001b[0mops\u001b[0m\u001b[1;33m.\u001b[0m\u001b[0mTensor\u001b[0m\u001b[1;33m)\u001b[0m\u001b[1;33m:\u001b[0m\u001b[1;33m\u001b[0m\u001b[1;33m\u001b[0m\u001b[0m\n\u001b[1;32m--> 533\u001b[1;33m       \u001b[0mx\u001b[0m \u001b[1;33m=\u001b[0m \u001b[0mt\u001b[0m\u001b[1;33m.\u001b[0m\u001b[0mnumpy\u001b[0m\u001b[1;33m(\u001b[0m\u001b[1;33m)\u001b[0m\u001b[1;33m\u001b[0m\u001b[1;33m\u001b[0m\u001b[0m\n\u001b[0m\u001b[0;32m    534\u001b[0m       \u001b[1;32mreturn\u001b[0m \u001b[0mx\u001b[0m\u001b[1;33m.\u001b[0m\u001b[0mitem\u001b[0m\u001b[1;33m(\u001b[0m\u001b[1;33m)\u001b[0m \u001b[1;32mif\u001b[0m \u001b[0mnp\u001b[0m\u001b[1;33m.\u001b[0m\u001b[0mndim\u001b[0m\u001b[1;33m(\u001b[0m\u001b[0mx\u001b[0m\u001b[1;33m)\u001b[0m \u001b[1;33m==\u001b[0m \u001b[1;36m0\u001b[0m \u001b[1;32melse\u001b[0m \u001b[0mx\u001b[0m\u001b[1;33m\u001b[0m\u001b[1;33m\u001b[0m\u001b[0m\n\u001b[0;32m    535\u001b[0m     \u001b[1;32mreturn\u001b[0m \u001b[0mt\u001b[0m  \u001b[1;31m# Don't turn ragged or sparse tensors to NumPy.\u001b[0m\u001b[1;33m\u001b[0m\u001b[1;33m\u001b[0m\u001b[0m\n",
      "\u001b[1;32m~\\AppData\\Roaming\\Python\\Python38\\site-packages\\tensorflow\\python\\framework\\ops.py\u001b[0m in \u001b[0;36mnumpy\u001b[1;34m(self)\u001b[0m\n\u001b[0;32m   1061\u001b[0m     \"\"\"\n\u001b[0;32m   1062\u001b[0m     \u001b[1;31m# TODO(slebedev): Consider avoiding a copy for non-CPU or remote tensors.\u001b[0m\u001b[1;33m\u001b[0m\u001b[1;33m\u001b[0m\u001b[1;33m\u001b[0m\u001b[0m\n\u001b[1;32m-> 1063\u001b[1;33m     \u001b[0mmaybe_arr\u001b[0m \u001b[1;33m=\u001b[0m \u001b[0mself\u001b[0m\u001b[1;33m.\u001b[0m\u001b[0m_numpy\u001b[0m\u001b[1;33m(\u001b[0m\u001b[1;33m)\u001b[0m  \u001b[1;31m# pylint: disable=protected-access\u001b[0m\u001b[1;33m\u001b[0m\u001b[1;33m\u001b[0m\u001b[0m\n\u001b[0m\u001b[0;32m   1064\u001b[0m     \u001b[1;32mreturn\u001b[0m \u001b[0mmaybe_arr\u001b[0m\u001b[1;33m.\u001b[0m\u001b[0mcopy\u001b[0m\u001b[1;33m(\u001b[0m\u001b[1;33m)\u001b[0m \u001b[1;32mif\u001b[0m \u001b[0misinstance\u001b[0m\u001b[1;33m(\u001b[0m\u001b[0mmaybe_arr\u001b[0m\u001b[1;33m,\u001b[0m \u001b[0mnp\u001b[0m\u001b[1;33m.\u001b[0m\u001b[0mndarray\u001b[0m\u001b[1;33m)\u001b[0m \u001b[1;32melse\u001b[0m \u001b[0mmaybe_arr\u001b[0m\u001b[1;33m\u001b[0m\u001b[1;33m\u001b[0m\u001b[0m\n\u001b[0;32m   1065\u001b[0m \u001b[1;33m\u001b[0m\u001b[0m\n",
      "\u001b[1;32m~\\AppData\\Roaming\\Python\\Python38\\site-packages\\tensorflow\\python\\framework\\ops.py\u001b[0m in \u001b[0;36m_numpy\u001b[1;34m(self)\u001b[0m\n\u001b[0;32m   1027\u001b[0m   \u001b[1;32mdef\u001b[0m \u001b[0m_numpy\u001b[0m\u001b[1;33m(\u001b[0m\u001b[0mself\u001b[0m\u001b[1;33m)\u001b[0m\u001b[1;33m:\u001b[0m\u001b[1;33m\u001b[0m\u001b[1;33m\u001b[0m\u001b[0m\n\u001b[0;32m   1028\u001b[0m     \u001b[1;32mtry\u001b[0m\u001b[1;33m:\u001b[0m\u001b[1;33m\u001b[0m\u001b[1;33m\u001b[0m\u001b[0m\n\u001b[1;32m-> 1029\u001b[1;33m       \u001b[1;32mreturn\u001b[0m \u001b[0mself\u001b[0m\u001b[1;33m.\u001b[0m\u001b[0m_numpy_internal\u001b[0m\u001b[1;33m(\u001b[0m\u001b[1;33m)\u001b[0m\u001b[1;33m\u001b[0m\u001b[1;33m\u001b[0m\u001b[0m\n\u001b[0m\u001b[0;32m   1030\u001b[0m     \u001b[1;32mexcept\u001b[0m \u001b[0mcore\u001b[0m\u001b[1;33m.\u001b[0m\u001b[0m_NotOkStatusException\u001b[0m \u001b[1;32mas\u001b[0m \u001b[0me\u001b[0m\u001b[1;33m:\u001b[0m  \u001b[1;31m# pylint: disable=protected-access\u001b[0m\u001b[1;33m\u001b[0m\u001b[1;33m\u001b[0m\u001b[0m\n\u001b[0;32m   1031\u001b[0m       \u001b[0msix\u001b[0m\u001b[1;33m.\u001b[0m\u001b[0mraise_from\u001b[0m\u001b[1;33m(\u001b[0m\u001b[0mcore\u001b[0m\u001b[1;33m.\u001b[0m\u001b[0m_status_to_exception\u001b[0m\u001b[1;33m(\u001b[0m\u001b[0me\u001b[0m\u001b[1;33m.\u001b[0m\u001b[0mcode\u001b[0m\u001b[1;33m,\u001b[0m \u001b[0me\u001b[0m\u001b[1;33m.\u001b[0m\u001b[0mmessage\u001b[0m\u001b[1;33m)\u001b[0m\u001b[1;33m,\u001b[0m \u001b[1;32mNone\u001b[0m\u001b[1;33m)\u001b[0m  \u001b[1;31m# pylint: disable=protected-access\u001b[0m\u001b[1;33m\u001b[0m\u001b[1;33m\u001b[0m\u001b[0m\n",
      "\u001b[1;31mKeyboardInterrupt\u001b[0m: "
     ]
    }
   ],
   "source": [
    "history = vgg16.fit(X_train, y_train, \n",
    "        epochs = 100, batch_size = 32, \n",
    "        validation_data=(X_test,y_test), \n",
    "        shuffle=True)"
   ]
  },
  {
   "cell_type": "code",
   "execution_count": null,
   "metadata": {
    "ExecuteTime": {
     "end_time": "2021-05-15T04:37:39.061810Z",
     "start_time": "2021-05-15T02:28:39.381Z"
    }
   },
   "outputs": [],
   "source": [
    "# 初始化 RMSprop 优化器\n",
    "opt1 = keras.optimizers.RMSprop(lr=0.0001, decay=1e-6)\n",
    "# 初始化 Adam 优化器\n",
    "# opt2 = keras.optimizers.Adam(lr=0.0001)\n",
    "\n",
    "# 用RMSProp训练模型\n",
    "cnn2 = base_model(opt1)\n",
    "cnn2.summary() # 打印网络结构及其内部参数"
   ]
  },
  {
   "cell_type": "code",
   "execution_count": null,
   "metadata": {
    "ExecuteTime": {
     "end_time": "2021-05-15T04:37:39.062809Z",
     "start_time": "2021-05-15T02:28:39.382Z"
    },
    "scrolled": false
   },
   "outputs": [],
   "source": [
    "history = cnn2.fit(X_train, y_train, \n",
    "        epochs = 100, batch_size = 32, \n",
    "        validation_data=(X_test,y_test), \n",
    "        shuffle=True)"
   ]
  },
  {
   "cell_type": "code",
   "execution_count": null,
   "metadata": {
    "ExecuteTime": {
     "end_time": "2021-05-15T04:37:39.063779Z",
     "start_time": "2021-05-15T02:28:39.383Z"
    }
   },
   "outputs": [],
   "source": [
    "# 对样本进行测试，默认不使用正则化\n",
    "score2 = cnn2.evaluate(X_test,y_test)\n",
    "print(\"损失值为{0:.2f},准确率为{1:.2%}\".format(score2[0],score2[1]))"
   ]
  },
  {
   "cell_type": "code",
   "execution_count": null,
   "metadata": {
    "ExecuteTime": {
     "end_time": "2021-05-15T04:37:39.066771Z",
     "start_time": "2021-05-15T02:28:39.384Z"
    }
   },
   "outputs": [],
   "source": [
    "def plot_loss_and_accuracy(history):\n",
    "    # Plots for training and testing process: loss and accuracy\n",
    " \n",
    "    plt.figure(0)\n",
    "    plt.plot(history.history['accuracy'],'r')\n",
    "    plt.plot(history.history['val_accuracy'],'g')\n",
    "    plt.xticks(np.arange(0, 101, 20))\n",
    "    plt.rcParams['figure.figsize'] = (10, 8)\n",
    "    plt.xlabel(\"Num of Epochs\")\n",
    "    plt.ylabel(\"Accuracy\")\n",
    "    plt.title(\"Training Accuracy vs Validation Accuracy\")\n",
    "    plt.legend(['train','validation'])\n",
    "     \n",
    "     \n",
    "    plt.figure(1)\n",
    "    plt.plot(history.history['loss'],'r')\n",
    "    plt.plot(history.history['val_loss'],'g')\n",
    "    plt.xticks(np.arange(0, 101, 20))\n",
    "    plt.rcParams['figure.figsize'] = (10, 8)\n",
    "    plt.xlabel(\"Num of Epochs\")\n",
    "    plt.ylabel(\"Loss\")\n",
    "    plt.title(\"Training Loss vs Validation Loss\")\n",
    "    plt.legend(['train','validation'])\n",
    "     \n",
    "     \n",
    "    plt.show()"
   ]
  },
  {
   "cell_type": "code",
   "execution_count": null,
   "metadata": {
    "ExecuteTime": {
     "end_time": "2021-05-15T04:37:39.067770Z",
     "start_time": "2021-05-15T02:28:39.384Z"
    }
   },
   "outputs": [],
   "source": [
    "plot_loss_and_accuracy(history)"
   ]
  },
  {
   "cell_type": "code",
   "execution_count": null,
   "metadata": {
    "ExecuteTime": {
     "end_time": "2021-05-15T04:37:39.069789Z",
     "start_time": "2021-05-15T02:28:39.385Z"
    }
   },
   "outputs": [],
   "source": [
    "from sklearn.metrics import classification_report, confusion_matrix\n",
    "Y_pred = cnn2.predict(X_test, verbose=2)\n",
    "y_pred = np.argmax(Y_pred, axis=1)\n",
    " \n",
    "# for ix in range(10):\n",
    "#     print(ix, confusion_matrix(np.argmax(y_test,axis=1),y_pred)[ix].sum())\n",
    "cm = confusion_matrix(np.argmax(y_test,axis=1),y_pred)\n",
    "print(cm)\n",
    "\n",
    "# Visualizing of confusion matrix\n",
    "import seaborn as sn\n",
    "import pandas  as pd\n",
    " \n",
    " \n",
    "df_cm = pd.DataFrame(cm, range(10),range(10))\n",
    "plt.figure(figsize = (10,7))\n",
    "sn.set(font_scale=1.4)#for label size\n",
    "sn.heatmap(df_cm, \n",
    "            annot=True,\n",
    "            annot_kws={\"size\": 12})# font size\n",
    "plt.show()"
   ]
  },
  {
   "cell_type": "code",
   "execution_count": null,
   "metadata": {
    "ExecuteTime": {
     "end_time": "2021-05-15T04:37:39.070759Z",
     "start_time": "2021-05-15T02:28:39.386Z"
    }
   },
   "outputs": [],
   "source": [
    "save_dir = os.path.join('cifar-10-python/', 'saved_models')\n",
    "model_name = 'keras_cifar10_trained_model.h5'\n",
    "\n",
    "# =======================\n",
    "config = cnn2.get_config()\n",
    "model = cnn2.from_config(config)\n",
    "cnn2.save(save_dir+model_name)"
   ]
  }
 ],
 "metadata": {
  "kernelspec": {
   "display_name": "Python 3",
   "language": "python",
   "name": "python3"
  },
  "language_info": {
   "codemirror_mode": {
    "name": "ipython",
    "version": 3
   },
   "file_extension": ".py",
   "mimetype": "text/x-python",
   "name": "python",
   "nbconvert_exporter": "python",
   "pygments_lexer": "ipython3",
   "version": "3.7.4"
  }
 },
 "nbformat": 4,
 "nbformat_minor": 4
}
