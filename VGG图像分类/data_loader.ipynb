{
 "cells": [
  {
   "cell_type": "markdown",
   "id": "b9c4c6de",
   "metadata": {},
   "source": [
    "# 加载数据集"
   ]
  },
  {
   "cell_type": "code",
   "execution_count": 1,
   "id": "54410b18",
   "metadata": {
    "ExecuteTime": {
     "end_time": "2021-05-24T11:19:36.552874Z",
     "start_time": "2021-05-24T11:19:35.109958Z"
    }
   },
   "outputs": [],
   "source": [
    "import pickle\n",
    "import numpy as np\n",
    "import matplotlib.pyplot as plt\n",
    "import random\n",
    "from PIL import Image"
   ]
  },
  {
   "cell_type": "code",
   "execution_count": 2,
   "id": "1b54083e",
   "metadata": {
    "ExecuteTime": {
     "end_time": "2021-05-24T11:19:52.055995Z",
     "start_time": "2021-05-24T11:19:52.046641Z"
    }
   },
   "outputs": [],
   "source": [
    "path = './data/cifar-10-batches-py/'"
   ]
  },
  {
   "cell_type": "code",
   "execution_count": 3,
   "id": "be7f4560",
   "metadata": {
    "ExecuteTime": {
     "end_time": "2021-05-24T11:20:43.762650Z",
     "start_time": "2021-05-24T11:20:43.752561Z"
    }
   },
   "outputs": [],
   "source": [
    "def unpickle(file):\n",
    "    with open(file, 'rb') as fo:\n",
    "        dict_data = pickle.load(fo, encoding='bytes')\n",
    "    return dict_data"
   ]
  },
  {
   "cell_type": "code",
   "execution_count": 4,
   "id": "d9b97d08",
   "metadata": {
    "ExecuteTime": {
     "end_time": "2021-05-24T11:21:17.871425Z",
     "start_time": "2021-05-24T11:21:17.763990Z"
    }
   },
   "outputs": [],
   "source": [
    "data1 = unpickle('./data/cifar-10-batches-py/data_batch_2')"
   ]
  },
  {
   "cell_type": "code",
   "execution_count": 5,
   "id": "b285dedf",
   "metadata": {
    "ExecuteTime": {
     "end_time": "2021-05-24T11:21:25.716356Z",
     "start_time": "2021-05-24T11:21:25.703695Z"
    }
   },
   "outputs": [
    {
     "data": {
      "text/plain": [
       "dict_keys([b'batch_label', b'labels', b'data', b'filenames'])"
      ]
     },
     "execution_count": 5,
     "metadata": {},
     "output_type": "execute_result"
    }
   ],
   "source": [
    "data1.keys()"
   ]
  },
  {
   "cell_type": "markdown",
   "id": "636b0a5e",
   "metadata": {},
   "source": [
    "# 数据集的分布"
   ]
  },
  {
   "cell_type": "code",
   "execution_count": 6,
   "id": "6cc31135",
   "metadata": {
    "ExecuteTime": {
     "end_time": "2021-05-24T11:22:34.486047Z",
     "start_time": "2021-05-24T11:22:34.471086Z"
    }
   },
   "outputs": [
    {
     "data": {
      "text/plain": [
       "b'training batch 2 of 5'"
      ]
     },
     "execution_count": 6,
     "metadata": {},
     "output_type": "execute_result"
    }
   ],
   "source": [
    "data1[b'batch_label']"
   ]
  },
  {
   "cell_type": "code",
   "execution_count": 8,
   "id": "77c78ed4",
   "metadata": {
    "ExecuteTime": {
     "end_time": "2021-05-24T11:22:57.253802Z",
     "start_time": "2021-05-24T11:22:57.242864Z"
    }
   },
   "outputs": [
    {
     "data": {
      "text/plain": [
       "10000"
      ]
     },
     "execution_count": 8,
     "metadata": {},
     "output_type": "execute_result"
    }
   ],
   "source": [
    "len(data1[b'labels'])"
   ]
  },
  {
   "cell_type": "code",
   "execution_count": 9,
   "id": "b0785494",
   "metadata": {
    "ExecuteTime": {
     "end_time": "2021-05-24T11:24:29.031863Z",
     "start_time": "2021-05-24T11:24:29.025780Z"
    }
   },
   "outputs": [
    {
     "data": {
      "text/plain": [
       "((10000, 3072), 3072)"
      ]
     },
     "execution_count": 9,
     "metadata": {},
     "output_type": "execute_result"
    }
   ],
   "source": [
    "data1[b'data'].shape, 32*32*3"
   ]
  },
  {
   "cell_type": "code",
   "execution_count": 10,
   "id": "0ad7f41c",
   "metadata": {
    "ExecuteTime": {
     "end_time": "2021-05-24T11:25:14.531008Z",
     "start_time": "2021-05-24T11:25:14.515078Z"
    }
   },
   "outputs": [
    {
     "data": {
      "text/plain": [
       "10000"
      ]
     },
     "execution_count": 10,
     "metadata": {},
     "output_type": "execute_result"
    }
   ],
   "source": [
    "len(data1[b'filenames'])"
   ]
  },
  {
   "cell_type": "code",
   "execution_count": 42,
   "id": "d6491957",
   "metadata": {
    "ExecuteTime": {
     "end_time": "2021-05-24T11:31:34.414642Z",
     "start_time": "2021-05-24T11:31:34.392668Z"
    }
   },
   "outputs": [
    {
     "data": {
      "text/plain": [
       "3072"
      ]
     },
     "execution_count": 42,
     "metadata": {},
     "output_type": "execute_result"
    }
   ],
   "source": [
    "len(data1[b'data'][0])"
   ]
  },
  {
   "cell_type": "markdown",
   "id": "5341e5a6",
   "metadata": {},
   "source": [
    "# 数据集的显示"
   ]
  },
  {
   "cell_type": "markdown",
   "id": "1f939948",
   "metadata": {
    "ExecuteTime": {
     "end_time": "2021-05-24T11:29:13.681702Z",
     "start_time": "2021-05-24T11:29:13.675757Z"
    }
   },
   "source": [
    "## 方法一"
   ]
  },
  {
   "cell_type": "code",
   "execution_count": 39,
   "id": "8b26ba05",
   "metadata": {
    "ExecuteTime": {
     "end_time": "2021-05-24T11:30:52.142311Z",
     "start_time": "2021-05-24T11:30:52.123783Z"
    }
   },
   "outputs": [
    {
     "ename": "ValueError",
     "evalue": "cannot reshape array of size 1 into shape (1024,1)",
     "output_type": "error",
     "traceback": [
      "\u001b[1;31m---------------------------------------------------------------------------\u001b[0m",
      "\u001b[1;31mValueError\u001b[0m                                Traceback (most recent call last)",
      "\u001b[1;32m<ipython-input-39-cd36d20e8b35>\u001b[0m in \u001b[0;36m<module>\u001b[1;34m\u001b[0m\n\u001b[0;32m      1\u001b[0m \u001b[1;32mfor\u001b[0m \u001b[0mi\u001b[0m \u001b[1;32min\u001b[0m \u001b[0mrange\u001b[0m\u001b[1;33m(\u001b[0m\u001b[1;36m100\u001b[0m\u001b[1;33m)\u001b[0m\u001b[1;33m:\u001b[0m\u001b[1;33m\u001b[0m\u001b[1;33m\u001b[0m\u001b[0m\n\u001b[0;32m      2\u001b[0m     \u001b[0mrand_index\u001b[0m \u001b[1;33m=\u001b[0m \u001b[0mrandom\u001b[0m\u001b[1;33m.\u001b[0m\u001b[0mrandint\u001b[0m\u001b[1;33m(\u001b[0m\u001b[1;36m0\u001b[0m\u001b[1;33m,\u001b[0m\u001b[1;36m9999\u001b[0m\u001b[1;33m)\u001b[0m\u001b[1;33m\u001b[0m\u001b[1;33m\u001b[0m\u001b[0m\n\u001b[1;32m----> 3\u001b[1;33m     \u001b[0mred\u001b[0m \u001b[1;33m=\u001b[0m \u001b[0mdata1\u001b[0m\u001b[1;33m[\u001b[0m\u001b[1;34mb'data'\u001b[0m\u001b[1;33m]\u001b[0m\u001b[1;33m[\u001b[0m\u001b[0mrand_index\u001b[0m\u001b[1;33m]\u001b[0m\u001b[1;33m[\u001b[0m\u001b[1;36m0\u001b[0m\u001b[1;33m]\u001b[0m\u001b[1;33m.\u001b[0m\u001b[0mreshape\u001b[0m\u001b[1;33m(\u001b[0m\u001b[1;36m1024\u001b[0m\u001b[1;33m,\u001b[0m\u001b[1;36m1\u001b[0m\u001b[1;33m)\u001b[0m\u001b[1;33m\u001b[0m\u001b[1;33m\u001b[0m\u001b[0m\n\u001b[0m\u001b[0;32m      4\u001b[0m     \u001b[0mgreen\u001b[0m \u001b[1;33m=\u001b[0m \u001b[0mdata1\u001b[0m\u001b[1;33m[\u001b[0m\u001b[1;34mb'data'\u001b[0m\u001b[1;33m]\u001b[0m\u001b[1;33m[\u001b[0m\u001b[0mrand_index\u001b[0m\u001b[1;33m]\u001b[0m\u001b[1;33m[\u001b[0m\u001b[1;36m1\u001b[0m\u001b[1;33m]\u001b[0m\u001b[1;33m.\u001b[0m\u001b[0mreshape\u001b[0m\u001b[1;33m(\u001b[0m\u001b[1;36m1024\u001b[0m\u001b[1;33m,\u001b[0m\u001b[1;36m1\u001b[0m\u001b[1;33m)\u001b[0m\u001b[1;33m\u001b[0m\u001b[1;33m\u001b[0m\u001b[0m\n\u001b[0;32m      5\u001b[0m     \u001b[0mblue\u001b[0m \u001b[1;33m=\u001b[0m \u001b[0mdata1\u001b[0m\u001b[1;33m[\u001b[0m\u001b[1;34mb'data'\u001b[0m\u001b[1;33m]\u001b[0m\u001b[1;33m[\u001b[0m\u001b[0mrand_index\u001b[0m\u001b[1;33m]\u001b[0m\u001b[1;33m[\u001b[0m\u001b[1;36m2\u001b[0m\u001b[1;33m]\u001b[0m\u001b[1;33m.\u001b[0m\u001b[0mreshape\u001b[0m\u001b[1;33m(\u001b[0m\u001b[1;36m1024\u001b[0m\u001b[1;33m,\u001b[0m\u001b[1;36m1\u001b[0m\u001b[1;33m)\u001b[0m\u001b[1;33m\u001b[0m\u001b[1;33m\u001b[0m\u001b[0m\n",
      "\u001b[1;31mValueError\u001b[0m: cannot reshape array of size 1 into shape (1024,1)"
     ]
    }
   ],
   "source": [
    "for i in range(100):\n",
    "    rand_index = random.randint(0,9999)\n",
    "    red = data1[b'data'][rand_index][0].reshape(1024,1)\n",
    "    green = data1[b'data'][rand_index][1].reshape(1024,1)\n",
    "    blue = data1[b'data'][rand_index][2].reshape(1024,1)\n",
    "    img = np.hstack((red,green,blue))\n",
    "    imgg = img.reshape(32,32,3)\n",
    "    plt.show(img)\n",
    "    img1 = Image.fromarray(img)\n",
    "    img1.save(str(i) + '.jpg')"
   ]
  }
 ],
 "metadata": {
  "kernelspec": {
   "display_name": "Python 3",
   "language": "python",
   "name": "python3"
  },
  "language_info": {
   "codemirror_mode": {
    "name": "ipython",
    "version": 3
   },
   "file_extension": ".py",
   "mimetype": "text/x-python",
   "name": "python",
   "nbconvert_exporter": "python",
   "pygments_lexer": "ipython3",
   "version": "3.7.4"
  }
 },
 "nbformat": 4,
 "nbformat_minor": 5
}
