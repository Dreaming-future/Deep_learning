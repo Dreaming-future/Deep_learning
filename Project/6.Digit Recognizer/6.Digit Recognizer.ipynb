{
 "cells": [
  {
   "cell_type": "markdown",
   "id": "149b9589",
   "metadata": {
    "ExecuteTime": {
     "end_time": "2021-06-03T08:13:12.751433Z",
     "start_time": "2021-06-03T08:13:12.068840Z"
    },
    "scrolled": true
   },
   "source": [
    "# 1. Introduction\n",
    "This Notebook follows three main parts:\n",
    "- The data preparation\n",
    "- The CNN modeling and evaluation\n",
    "- The results prediction and submission\n",
    "\n",
    "这是一个 5 层顺序卷积神经网络，用于在 MNIST 数据集上训练的数字识别。 我选择使用非常直观的 keras API（Tensorflow 后端）来构建它。 首先，我将准备数据（手写数字图像），然后我将专注于 CNN 建模和评估。 "
   ]
  },
  {
   "cell_type": "code",
   "execution_count": 33,
   "id": "76b5c90d",
   "metadata": {
    "ExecuteTime": {
     "end_time": "2021-06-05T01:54:13.808611Z",
     "start_time": "2021-06-05T01:54:13.775697Z"
    }
   },
   "outputs": [],
   "source": [
    "import numpy as np\n",
    "import pandas as pd\n",
    "import matplotlib.pyplot as plt\n",
    "import seaborn as sns\n",
    "\n",
    "from sklearn.model_selection import train_test_split\n",
    "from sklearn.metrics import confusion_matrix\n",
    "import itertools\n",
    "\n",
    "from keras.utils.np_utils import to_categorical # convert to one-hot-encoding\n",
    "from keras.models import Sequential\n",
    "from keras.layers import Dense, Dropout, Flatten, Conv2D, MaxPool2D, BatchNormalization\n",
    "from keras.optimizers import RMSprop\n",
    "from keras.preprocessing.image import ImageDataGenerator\n",
    "from keras.callbacks import ReduceLROnPlateau\n",
    "\n",
    "import tensorflow as tf \n",
    "config = tf.compat.v1.ConfigProto()\n",
    "# config.gpu_options.per_process_gpu_memory_fraction = 0.1\n",
    "config.gpu_options.allow_growth = True\n",
    "session = tf.compat.v1.Session(config=config)\n",
    "%matplotlib inline"
   ]
  },
  {
   "cell_type": "markdown",
   "id": "98d06f2f",
   "metadata": {
    "ExecuteTime": {
     "end_time": "2021-06-03T08:17:35.098495Z",
     "start_time": "2021-06-03T08:17:35.086317Z"
    }
   },
   "source": [
    "## 2. Data preparation\n",
    "### 2.1 Load data"
   ]
  },
  {
   "cell_type": "code",
   "execution_count": 2,
   "id": "a2152abd",
   "metadata": {
    "ExecuteTime": {
     "end_time": "2021-06-05T01:38:45.815269Z",
     "start_time": "2021-06-05T01:38:42.314954Z"
    }
   },
   "outputs": [],
   "source": [
    "# Load the data\n",
    "train = pd.read_csv('data/train.csv')\n",
    "test = pd.read_csv('data/test.csv')"
   ]
  },
  {
   "cell_type": "code",
   "execution_count": 3,
   "id": "f70f0090",
   "metadata": {
    "ExecuteTime": {
     "end_time": "2021-06-05T01:38:45.950897Z",
     "start_time": "2021-06-05T01:38:45.817241Z"
    }
   },
   "outputs": [
    {
     "name": "stdout",
     "output_type": "stream",
     "text": [
      "<class 'pandas.core.frame.DataFrame'>\n",
      "RangeIndex: 42000 entries, 0 to 41999\n",
      "Columns: 785 entries, label to pixel783\n",
      "dtypes: int64(785)\n",
      "memory usage: 251.5 MB\n"
     ]
    }
   ],
   "source": [
    "train.info()"
   ]
  },
  {
   "cell_type": "code",
   "execution_count": 4,
   "id": "b8d74629",
   "metadata": {
    "ExecuteTime": {
     "end_time": "2021-06-05T01:38:47.717709Z",
     "start_time": "2021-06-05T01:38:45.953756Z"
    }
   },
   "outputs": [
    {
     "data": {
      "text/html": [
       "<div>\n",
       "<style scoped>\n",
       "    .dataframe tbody tr th:only-of-type {\n",
       "        vertical-align: middle;\n",
       "    }\n",
       "\n",
       "    .dataframe tbody tr th {\n",
       "        vertical-align: top;\n",
       "    }\n",
       "\n",
       "    .dataframe thead th {\n",
       "        text-align: right;\n",
       "    }\n",
       "</style>\n",
       "<table border=\"1\" class=\"dataframe\">\n",
       "  <thead>\n",
       "    <tr style=\"text-align: right;\">\n",
       "      <th></th>\n",
       "      <th>label</th>\n",
       "      <th>pixel0</th>\n",
       "      <th>pixel1</th>\n",
       "      <th>pixel2</th>\n",
       "      <th>pixel3</th>\n",
       "      <th>pixel4</th>\n",
       "      <th>pixel5</th>\n",
       "      <th>pixel6</th>\n",
       "      <th>pixel7</th>\n",
       "      <th>pixel8</th>\n",
       "      <th>...</th>\n",
       "      <th>pixel774</th>\n",
       "      <th>pixel775</th>\n",
       "      <th>pixel776</th>\n",
       "      <th>pixel777</th>\n",
       "      <th>pixel778</th>\n",
       "      <th>pixel779</th>\n",
       "      <th>pixel780</th>\n",
       "      <th>pixel781</th>\n",
       "      <th>pixel782</th>\n",
       "      <th>pixel783</th>\n",
       "    </tr>\n",
       "  </thead>\n",
       "  <tbody>\n",
       "    <tr>\n",
       "      <th>count</th>\n",
       "      <td>42000.000000</td>\n",
       "      <td>42000.0</td>\n",
       "      <td>42000.0</td>\n",
       "      <td>42000.0</td>\n",
       "      <td>42000.0</td>\n",
       "      <td>42000.0</td>\n",
       "      <td>42000.0</td>\n",
       "      <td>42000.0</td>\n",
       "      <td>42000.0</td>\n",
       "      <td>42000.0</td>\n",
       "      <td>...</td>\n",
       "      <td>42000.000000</td>\n",
       "      <td>42000.000000</td>\n",
       "      <td>42000.000000</td>\n",
       "      <td>42000.00000</td>\n",
       "      <td>42000.000000</td>\n",
       "      <td>42000.000000</td>\n",
       "      <td>42000.0</td>\n",
       "      <td>42000.0</td>\n",
       "      <td>42000.0</td>\n",
       "      <td>42000.0</td>\n",
       "    </tr>\n",
       "    <tr>\n",
       "      <th>mean</th>\n",
       "      <td>4.456643</td>\n",
       "      <td>0.0</td>\n",
       "      <td>0.0</td>\n",
       "      <td>0.0</td>\n",
       "      <td>0.0</td>\n",
       "      <td>0.0</td>\n",
       "      <td>0.0</td>\n",
       "      <td>0.0</td>\n",
       "      <td>0.0</td>\n",
       "      <td>0.0</td>\n",
       "      <td>...</td>\n",
       "      <td>0.219286</td>\n",
       "      <td>0.117095</td>\n",
       "      <td>0.059024</td>\n",
       "      <td>0.02019</td>\n",
       "      <td>0.017238</td>\n",
       "      <td>0.002857</td>\n",
       "      <td>0.0</td>\n",
       "      <td>0.0</td>\n",
       "      <td>0.0</td>\n",
       "      <td>0.0</td>\n",
       "    </tr>\n",
       "    <tr>\n",
       "      <th>std</th>\n",
       "      <td>2.887730</td>\n",
       "      <td>0.0</td>\n",
       "      <td>0.0</td>\n",
       "      <td>0.0</td>\n",
       "      <td>0.0</td>\n",
       "      <td>0.0</td>\n",
       "      <td>0.0</td>\n",
       "      <td>0.0</td>\n",
       "      <td>0.0</td>\n",
       "      <td>0.0</td>\n",
       "      <td>...</td>\n",
       "      <td>6.312890</td>\n",
       "      <td>4.633819</td>\n",
       "      <td>3.274488</td>\n",
       "      <td>1.75987</td>\n",
       "      <td>1.894498</td>\n",
       "      <td>0.414264</td>\n",
       "      <td>0.0</td>\n",
       "      <td>0.0</td>\n",
       "      <td>0.0</td>\n",
       "      <td>0.0</td>\n",
       "    </tr>\n",
       "    <tr>\n",
       "      <th>min</th>\n",
       "      <td>0.000000</td>\n",
       "      <td>0.0</td>\n",
       "      <td>0.0</td>\n",
       "      <td>0.0</td>\n",
       "      <td>0.0</td>\n",
       "      <td>0.0</td>\n",
       "      <td>0.0</td>\n",
       "      <td>0.0</td>\n",
       "      <td>0.0</td>\n",
       "      <td>0.0</td>\n",
       "      <td>...</td>\n",
       "      <td>0.000000</td>\n",
       "      <td>0.000000</td>\n",
       "      <td>0.000000</td>\n",
       "      <td>0.00000</td>\n",
       "      <td>0.000000</td>\n",
       "      <td>0.000000</td>\n",
       "      <td>0.0</td>\n",
       "      <td>0.0</td>\n",
       "      <td>0.0</td>\n",
       "      <td>0.0</td>\n",
       "    </tr>\n",
       "    <tr>\n",
       "      <th>25%</th>\n",
       "      <td>2.000000</td>\n",
       "      <td>0.0</td>\n",
       "      <td>0.0</td>\n",
       "      <td>0.0</td>\n",
       "      <td>0.0</td>\n",
       "      <td>0.0</td>\n",
       "      <td>0.0</td>\n",
       "      <td>0.0</td>\n",
       "      <td>0.0</td>\n",
       "      <td>0.0</td>\n",
       "      <td>...</td>\n",
       "      <td>0.000000</td>\n",
       "      <td>0.000000</td>\n",
       "      <td>0.000000</td>\n",
       "      <td>0.00000</td>\n",
       "      <td>0.000000</td>\n",
       "      <td>0.000000</td>\n",
       "      <td>0.0</td>\n",
       "      <td>0.0</td>\n",
       "      <td>0.0</td>\n",
       "      <td>0.0</td>\n",
       "    </tr>\n",
       "    <tr>\n",
       "      <th>50%</th>\n",
       "      <td>4.000000</td>\n",
       "      <td>0.0</td>\n",
       "      <td>0.0</td>\n",
       "      <td>0.0</td>\n",
       "      <td>0.0</td>\n",
       "      <td>0.0</td>\n",
       "      <td>0.0</td>\n",
       "      <td>0.0</td>\n",
       "      <td>0.0</td>\n",
       "      <td>0.0</td>\n",
       "      <td>...</td>\n",
       "      <td>0.000000</td>\n",
       "      <td>0.000000</td>\n",
       "      <td>0.000000</td>\n",
       "      <td>0.00000</td>\n",
       "      <td>0.000000</td>\n",
       "      <td>0.000000</td>\n",
       "      <td>0.0</td>\n",
       "      <td>0.0</td>\n",
       "      <td>0.0</td>\n",
       "      <td>0.0</td>\n",
       "    </tr>\n",
       "    <tr>\n",
       "      <th>75%</th>\n",
       "      <td>7.000000</td>\n",
       "      <td>0.0</td>\n",
       "      <td>0.0</td>\n",
       "      <td>0.0</td>\n",
       "      <td>0.0</td>\n",
       "      <td>0.0</td>\n",
       "      <td>0.0</td>\n",
       "      <td>0.0</td>\n",
       "      <td>0.0</td>\n",
       "      <td>0.0</td>\n",
       "      <td>...</td>\n",
       "      <td>0.000000</td>\n",
       "      <td>0.000000</td>\n",
       "      <td>0.000000</td>\n",
       "      <td>0.00000</td>\n",
       "      <td>0.000000</td>\n",
       "      <td>0.000000</td>\n",
       "      <td>0.0</td>\n",
       "      <td>0.0</td>\n",
       "      <td>0.0</td>\n",
       "      <td>0.0</td>\n",
       "    </tr>\n",
       "    <tr>\n",
       "      <th>max</th>\n",
       "      <td>9.000000</td>\n",
       "      <td>0.0</td>\n",
       "      <td>0.0</td>\n",
       "      <td>0.0</td>\n",
       "      <td>0.0</td>\n",
       "      <td>0.0</td>\n",
       "      <td>0.0</td>\n",
       "      <td>0.0</td>\n",
       "      <td>0.0</td>\n",
       "      <td>0.0</td>\n",
       "      <td>...</td>\n",
       "      <td>254.000000</td>\n",
       "      <td>254.000000</td>\n",
       "      <td>253.000000</td>\n",
       "      <td>253.00000</td>\n",
       "      <td>254.000000</td>\n",
       "      <td>62.000000</td>\n",
       "      <td>0.0</td>\n",
       "      <td>0.0</td>\n",
       "      <td>0.0</td>\n",
       "      <td>0.0</td>\n",
       "    </tr>\n",
       "  </tbody>\n",
       "</table>\n",
       "<p>8 rows × 785 columns</p>\n",
       "</div>"
      ],
      "text/plain": [
       "              label   pixel0   pixel1   pixel2   pixel3   pixel4   pixel5  \\\n",
       "count  42000.000000  42000.0  42000.0  42000.0  42000.0  42000.0  42000.0   \n",
       "mean       4.456643      0.0      0.0      0.0      0.0      0.0      0.0   \n",
       "std        2.887730      0.0      0.0      0.0      0.0      0.0      0.0   \n",
       "min        0.000000      0.0      0.0      0.0      0.0      0.0      0.0   \n",
       "25%        2.000000      0.0      0.0      0.0      0.0      0.0      0.0   \n",
       "50%        4.000000      0.0      0.0      0.0      0.0      0.0      0.0   \n",
       "75%        7.000000      0.0      0.0      0.0      0.0      0.0      0.0   \n",
       "max        9.000000      0.0      0.0      0.0      0.0      0.0      0.0   \n",
       "\n",
       "        pixel6   pixel7   pixel8  ...      pixel774      pixel775  \\\n",
       "count  42000.0  42000.0  42000.0  ...  42000.000000  42000.000000   \n",
       "mean       0.0      0.0      0.0  ...      0.219286      0.117095   \n",
       "std        0.0      0.0      0.0  ...      6.312890      4.633819   \n",
       "min        0.0      0.0      0.0  ...      0.000000      0.000000   \n",
       "25%        0.0      0.0      0.0  ...      0.000000      0.000000   \n",
       "50%        0.0      0.0      0.0  ...      0.000000      0.000000   \n",
       "75%        0.0      0.0      0.0  ...      0.000000      0.000000   \n",
       "max        0.0      0.0      0.0  ...    254.000000    254.000000   \n",
       "\n",
       "           pixel776     pixel777      pixel778      pixel779  pixel780  \\\n",
       "count  42000.000000  42000.00000  42000.000000  42000.000000   42000.0   \n",
       "mean       0.059024      0.02019      0.017238      0.002857       0.0   \n",
       "std        3.274488      1.75987      1.894498      0.414264       0.0   \n",
       "min        0.000000      0.00000      0.000000      0.000000       0.0   \n",
       "25%        0.000000      0.00000      0.000000      0.000000       0.0   \n",
       "50%        0.000000      0.00000      0.000000      0.000000       0.0   \n",
       "75%        0.000000      0.00000      0.000000      0.000000       0.0   \n",
       "max      253.000000    253.00000    254.000000     62.000000       0.0   \n",
       "\n",
       "       pixel781  pixel782  pixel783  \n",
       "count   42000.0   42000.0   42000.0  \n",
       "mean        0.0       0.0       0.0  \n",
       "std         0.0       0.0       0.0  \n",
       "min         0.0       0.0       0.0  \n",
       "25%         0.0       0.0       0.0  \n",
       "50%         0.0       0.0       0.0  \n",
       "75%         0.0       0.0       0.0  \n",
       "max         0.0       0.0       0.0  \n",
       "\n",
       "[8 rows x 785 columns]"
      ]
     },
     "execution_count": 4,
     "metadata": {},
     "output_type": "execute_result"
    }
   ],
   "source": [
    "train.describe(include='all')"
   ]
  },
  {
   "cell_type": "code",
   "execution_count": 5,
   "id": "57de4362",
   "metadata": {
    "ExecuteTime": {
     "end_time": "2021-06-05T01:38:47.747664Z",
     "start_time": "2021-06-05T01:38:47.719705Z"
    }
   },
   "outputs": [
    {
     "data": {
      "text/html": [
       "<div>\n",
       "<style scoped>\n",
       "    .dataframe tbody tr th:only-of-type {\n",
       "        vertical-align: middle;\n",
       "    }\n",
       "\n",
       "    .dataframe tbody tr th {\n",
       "        vertical-align: top;\n",
       "    }\n",
       "\n",
       "    .dataframe thead th {\n",
       "        text-align: right;\n",
       "    }\n",
       "</style>\n",
       "<table border=\"1\" class=\"dataframe\">\n",
       "  <thead>\n",
       "    <tr style=\"text-align: right;\">\n",
       "      <th></th>\n",
       "      <th>label</th>\n",
       "      <th>pixel0</th>\n",
       "      <th>pixel1</th>\n",
       "      <th>pixel2</th>\n",
       "      <th>pixel3</th>\n",
       "      <th>pixel4</th>\n",
       "      <th>pixel5</th>\n",
       "      <th>pixel6</th>\n",
       "      <th>pixel7</th>\n",
       "      <th>pixel8</th>\n",
       "      <th>...</th>\n",
       "      <th>pixel774</th>\n",
       "      <th>pixel775</th>\n",
       "      <th>pixel776</th>\n",
       "      <th>pixel777</th>\n",
       "      <th>pixel778</th>\n",
       "      <th>pixel779</th>\n",
       "      <th>pixel780</th>\n",
       "      <th>pixel781</th>\n",
       "      <th>pixel782</th>\n",
       "      <th>pixel783</th>\n",
       "    </tr>\n",
       "  </thead>\n",
       "  <tbody>\n",
       "    <tr>\n",
       "      <th>0</th>\n",
       "      <td>1</td>\n",
       "      <td>0</td>\n",
       "      <td>0</td>\n",
       "      <td>0</td>\n",
       "      <td>0</td>\n",
       "      <td>0</td>\n",
       "      <td>0</td>\n",
       "      <td>0</td>\n",
       "      <td>0</td>\n",
       "      <td>0</td>\n",
       "      <td>...</td>\n",
       "      <td>0</td>\n",
       "      <td>0</td>\n",
       "      <td>0</td>\n",
       "      <td>0</td>\n",
       "      <td>0</td>\n",
       "      <td>0</td>\n",
       "      <td>0</td>\n",
       "      <td>0</td>\n",
       "      <td>0</td>\n",
       "      <td>0</td>\n",
       "    </tr>\n",
       "    <tr>\n",
       "      <th>1</th>\n",
       "      <td>0</td>\n",
       "      <td>0</td>\n",
       "      <td>0</td>\n",
       "      <td>0</td>\n",
       "      <td>0</td>\n",
       "      <td>0</td>\n",
       "      <td>0</td>\n",
       "      <td>0</td>\n",
       "      <td>0</td>\n",
       "      <td>0</td>\n",
       "      <td>...</td>\n",
       "      <td>0</td>\n",
       "      <td>0</td>\n",
       "      <td>0</td>\n",
       "      <td>0</td>\n",
       "      <td>0</td>\n",
       "      <td>0</td>\n",
       "      <td>0</td>\n",
       "      <td>0</td>\n",
       "      <td>0</td>\n",
       "      <td>0</td>\n",
       "    </tr>\n",
       "    <tr>\n",
       "      <th>2</th>\n",
       "      <td>1</td>\n",
       "      <td>0</td>\n",
       "      <td>0</td>\n",
       "      <td>0</td>\n",
       "      <td>0</td>\n",
       "      <td>0</td>\n",
       "      <td>0</td>\n",
       "      <td>0</td>\n",
       "      <td>0</td>\n",
       "      <td>0</td>\n",
       "      <td>...</td>\n",
       "      <td>0</td>\n",
       "      <td>0</td>\n",
       "      <td>0</td>\n",
       "      <td>0</td>\n",
       "      <td>0</td>\n",
       "      <td>0</td>\n",
       "      <td>0</td>\n",
       "      <td>0</td>\n",
       "      <td>0</td>\n",
       "      <td>0</td>\n",
       "    </tr>\n",
       "    <tr>\n",
       "      <th>3</th>\n",
       "      <td>4</td>\n",
       "      <td>0</td>\n",
       "      <td>0</td>\n",
       "      <td>0</td>\n",
       "      <td>0</td>\n",
       "      <td>0</td>\n",
       "      <td>0</td>\n",
       "      <td>0</td>\n",
       "      <td>0</td>\n",
       "      <td>0</td>\n",
       "      <td>...</td>\n",
       "      <td>0</td>\n",
       "      <td>0</td>\n",
       "      <td>0</td>\n",
       "      <td>0</td>\n",
       "      <td>0</td>\n",
       "      <td>0</td>\n",
       "      <td>0</td>\n",
       "      <td>0</td>\n",
       "      <td>0</td>\n",
       "      <td>0</td>\n",
       "    </tr>\n",
       "    <tr>\n",
       "      <th>4</th>\n",
       "      <td>0</td>\n",
       "      <td>0</td>\n",
       "      <td>0</td>\n",
       "      <td>0</td>\n",
       "      <td>0</td>\n",
       "      <td>0</td>\n",
       "      <td>0</td>\n",
       "      <td>0</td>\n",
       "      <td>0</td>\n",
       "      <td>0</td>\n",
       "      <td>...</td>\n",
       "      <td>0</td>\n",
       "      <td>0</td>\n",
       "      <td>0</td>\n",
       "      <td>0</td>\n",
       "      <td>0</td>\n",
       "      <td>0</td>\n",
       "      <td>0</td>\n",
       "      <td>0</td>\n",
       "      <td>0</td>\n",
       "      <td>0</td>\n",
       "    </tr>\n",
       "  </tbody>\n",
       "</table>\n",
       "<p>5 rows × 785 columns</p>\n",
       "</div>"
      ],
      "text/plain": [
       "   label  pixel0  pixel1  pixel2  pixel3  pixel4  pixel5  pixel6  pixel7  \\\n",
       "0      1       0       0       0       0       0       0       0       0   \n",
       "1      0       0       0       0       0       0       0       0       0   \n",
       "2      1       0       0       0       0       0       0       0       0   \n",
       "3      4       0       0       0       0       0       0       0       0   \n",
       "4      0       0       0       0       0       0       0       0       0   \n",
       "\n",
       "   pixel8  ...  pixel774  pixel775  pixel776  pixel777  pixel778  pixel779  \\\n",
       "0       0  ...         0         0         0         0         0         0   \n",
       "1       0  ...         0         0         0         0         0         0   \n",
       "2       0  ...         0         0         0         0         0         0   \n",
       "3       0  ...         0         0         0         0         0         0   \n",
       "4       0  ...         0         0         0         0         0         0   \n",
       "\n",
       "   pixel780  pixel781  pixel782  pixel783  \n",
       "0         0         0         0         0  \n",
       "1         0         0         0         0  \n",
       "2         0         0         0         0  \n",
       "3         0         0         0         0  \n",
       "4         0         0         0         0  \n",
       "\n",
       "[5 rows x 785 columns]"
      ]
     },
     "execution_count": 5,
     "metadata": {},
     "output_type": "execute_result"
    }
   ],
   "source": [
    "train.head()"
   ]
  },
  {
   "cell_type": "code",
   "execution_count": 6,
   "id": "223e58a5",
   "metadata": {
    "ExecuteTime": {
     "end_time": "2021-06-05T01:38:48.039930Z",
     "start_time": "2021-06-05T01:38:47.748628Z"
    }
   },
   "outputs": [
    {
     "name": "stderr",
     "output_type": "stream",
     "text": [
      "c:\\users\\86137\\appdata\\local\\programs\\python\\python37\\lib\\site-packages\\seaborn\\_decorators.py:43: FutureWarning: Pass the following variable as a keyword arg: x. From version 0.12, the only valid positional argument will be `data`, and passing other arguments without an explicit keyword will result in an error or misinterpretation.\n",
      "  FutureWarning\n"
     ]
    },
    {
     "data": {
      "text/plain": [
       "1    4684\n",
       "7    4401\n",
       "3    4351\n",
       "9    4188\n",
       "2    4177\n",
       "6    4137\n",
       "0    4132\n",
       "4    4072\n",
       "8    4063\n",
       "5    3795\n",
       "Name: label, dtype: int64"
      ]
     },
     "execution_count": 6,
     "metadata": {},
     "output_type": "execute_result"
    },
    {
     "data": {
      "image/png": "[encoded data removed]",
      "text/plain": [
       "<Figure size 432x288 with 1 Axes>"
      ]
     },
     "metadata": {
      "needs_background": "light"
     },
     "output_type": "display_data"
    }
   ],
   "source": [
    "Y_train = train['label'] \n",
    "\n",
    "X_train = train.drop('label',axis=1)\n",
    "\n",
    "sns.countplot(Y_train)\n",
    "Y_train.value_counts()"
   ]
  },
  {
   "cell_type": "markdown",
   "id": "96494d5e",
   "metadata": {},
   "source": [
    "We have similar counts for the 10 digits.\n",
    "\n",
    "我们差不多有十个标签，数目差不多，就是0-9，我们的数字标签"
   ]
  },
  {
   "cell_type": "markdown",
   "id": "6fc5a3b3",
   "metadata": {},
   "source": [
    "### 2.2 Check for null and missing values 缺失值处理"
   ]
  },
  {
   "cell_type": "code",
   "execution_count": 7,
   "id": "18d988b9",
   "metadata": {
    "ExecuteTime": {
     "end_time": "2021-06-05T01:38:48.085793Z",
     "start_time": "2021-06-05T01:38:48.042878Z"
    }
   },
   "outputs": [
    {
     "data": {
      "text/plain": [
       "count       784\n",
       "unique        1\n",
       "top       False\n",
       "freq        784\n",
       "dtype: object"
      ]
     },
     "execution_count": 7,
     "metadata": {},
     "output_type": "execute_result"
    }
   ],
   "source": [
    "# Check the data\n",
    "X_train.isnull().any().describe()"
   ]
  },
  {
   "cell_type": "code",
   "execution_count": 8,
   "id": "65fb4380",
   "metadata": {
    "ExecuteTime": {
     "end_time": "2021-06-05T01:38:48.131639Z",
     "start_time": "2021-06-05T01:38:48.088753Z"
    }
   },
   "outputs": [
    {
     "data": {
      "text/plain": [
       "count       784\n",
       "unique        1\n",
       "top       False\n",
       "freq        784\n",
       "dtype: object"
      ]
     },
     "execution_count": 8,
     "metadata": {},
     "output_type": "execute_result"
    }
   ],
   "source": [
    "test.isnull().any().describe()"
   ]
  },
  {
   "cell_type": "markdown",
   "id": "21fd63f9",
   "metadata": {},
   "source": [
    "There is no missing values in the train and test dataset. So we can safely go ahead\n",
    "\n",
    "训练和测试数据集中没有缺失值。 所以我们可以放心地继续前进"
   ]
  },
  {
   "cell_type": "markdown",
   "id": "d20048ad",
   "metadata": {},
   "source": [
    "### 2.3 Normalization 标准化处理"
   ]
  },
  {
   "cell_type": "markdown",
   "id": "9a218376",
   "metadata": {},
   "source": [
    "我们实现灰度归一化以减少光照差异的影响。\n",
    "此外，CNN 在 [0..1] 数据上的收敛速度比在 [0..255] 上更快"
   ]
  },
  {
   "cell_type": "code",
   "execution_count": 9,
   "id": "b68118e6",
   "metadata": {
    "ExecuteTime": {
     "end_time": "2021-06-05T01:38:48.368234Z",
     "start_time": "2021-06-05T01:38:48.134632Z"
    }
   },
   "outputs": [],
   "source": [
    "# Normalize the data\n",
    "X_train = X_train / 255.0\n",
    "test = test / 255.0"
   ]
  },
  {
   "cell_type": "markdown",
   "id": "ad31d74d",
   "metadata": {},
   "source": [
    "## 2.4 Reshape"
   ]
  },
  {
   "cell_type": "code",
   "execution_count": 10,
   "id": "3da4740e",
   "metadata": {
    "ExecuteTime": {
     "end_time": "2021-06-05T01:38:48.384037Z",
     "start_time": "2021-06-05T01:38:48.369076Z"
    }
   },
   "outputs": [],
   "source": [
    "# Reshape image in 3 dimensions (height = 28px, width = 28px , canal = 1)\n",
    "X_train = X_train.values.reshape(-1,28,28,1)\n",
    "test = test.values.reshape(-1,28,28,1)"
   ]
  },
  {
   "cell_type": "code",
   "execution_count": 11,
   "id": "e3a21c02",
   "metadata": {
    "ExecuteTime": {
     "end_time": "2021-06-05T01:38:48.398996Z",
     "start_time": "2021-06-05T01:38:48.386035Z"
    }
   },
   "outputs": [
    {
     "data": {
      "text/plain": [
       "(42000, 28, 28, 1)"
      ]
     },
     "execution_count": 11,
     "metadata": {},
     "output_type": "execute_result"
    }
   ],
   "source": [
    "X_train.shape"
   ]
  },
  {
   "cell_type": "markdown",
   "id": "13e1ac6c",
   "metadata": {},
   "source": [
    "Train and test images (28px x 28px) has been stock into pandas.Dataframe as 1D vectors of 784 values. We reshape all data to 28x28x1 3D matrices.\n",
    "\n",
    "Keras requires an extra dimension in the end which correspond to channels. MNIST images are gray scaled so it use only one channel. For RGB images, there is 3 channels, we would have reshaped 784px vectors to 28x28x3 3D matrices.\n",
    "\n",
    "训练和测试图像 (28px x 28px) 已作为 784 个值的一维向量存入 pandas.Dataframe。 我们将所有数据重塑为 28x28x1 3D 矩阵。\n",
    "\n",
    "Keras 最后需要一个与通道相对应的额外维度。 MNIST 图像是灰度化的，所以它只使用一个通道。 对于 RGB 图像，有 3 个通道，我们会将 784 像素的向量重塑为 28x28x3 的 3D 矩阵。"
   ]
  },
  {
   "cell_type": "markdown",
   "id": "874fc1aa",
   "metadata": {},
   "source": [
    "## 2.5 Label encoding"
   ]
  },
  {
   "cell_type": "code",
   "execution_count": 12,
   "id": "5db67850",
   "metadata": {
    "ExecuteTime": {
     "end_time": "2021-06-05T01:38:48.413958Z",
     "start_time": "2021-06-05T01:38:48.400992Z"
    }
   },
   "outputs": [],
   "source": [
    "# Encode labels to one hot vectors (ex : 2 -> [0,0,1,0,0,0,0,0,0,0])\n",
    "Y_train = to_categorical(Y_train, num_classes = 10)"
   ]
  },
  {
   "cell_type": "markdown",
   "id": "ff6ebdaa",
   "metadata": {},
   "source": [
    "Labels are 10 digits numbers from 0 to 9. We need to encode these lables to one hot vectors (ex : 2 -> [0,0,1,0,0,0,0,0,0,0]).\n",
    "\n",
    "标签是从 0 到 9 的 10 位数字。我们需要将标签编码为一个one-hot 向量（例如：2 -> [0,0,1,0,0,0,0,0,0,0]）"
   ]
  },
  {
   "cell_type": "markdown",
   "id": "f17c79c1",
   "metadata": {},
   "source": [
    "## 2.6 Split training and valdiation set"
   ]
  },
  {
   "cell_type": "code",
   "execution_count": 13,
   "id": "eda23bb7",
   "metadata": {
    "ExecuteTime": {
     "end_time": "2021-06-05T01:38:48.429439Z",
     "start_time": "2021-06-05T01:38:48.417947Z"
    }
   },
   "outputs": [],
   "source": [
    "# Set the random seed\n",
    "random_seed = 2"
   ]
  },
  {
   "cell_type": "code",
   "execution_count": 14,
   "id": "fc191cdd",
   "metadata": {
    "ExecuteTime": {
     "end_time": "2021-06-05T01:38:49.085799Z",
     "start_time": "2021-06-05T01:38:48.432431Z"
    }
   },
   "outputs": [],
   "source": [
    "# Split the train and the validation set for the fitting\n",
    "X_train, X_val, Y_train, Y_val = train_test_split(X_train, Y_train, test_size = 0.1, random_state=random_seed)"
   ]
  },
  {
   "cell_type": "markdown",
   "id": "7fc5a92d",
   "metadata": {},
   "source": [
    "I choosed to split the train set in two parts : a small fraction (10%) became the validation set which the model is evaluated and the rest (90%) is used to train the model.\n",
    "\n",
    "Since we have 42 000 training images of balanced labels (see 2.1 Load data), a random split of the train set doesn't cause some labels to be over represented in the validation set. Be carefull with some unbalanced dataset a simple random split could cause inaccurate evaluation during the validation.\n",
    "\n",
    "我选择将训练集分成两部分：一小部分 (10%) 成为评估模型的验证集，其余 (90%) 用于训练模型。\n",
    "\n",
    "由于我们有 42 000 张平衡标签的训练图像（参见 2.1 加载数据），训练集的随机拆分不会导致某些标签在验证集中过度表示。 小心一些不平衡的数据集，简单的随机拆分可能会导致验证过程中的评估不准确。"
   ]
  },
  {
   "cell_type": "code",
   "execution_count": 15,
   "id": "1218083d",
   "metadata": {
    "ExecuteTime": {
     "end_time": "2021-06-05T01:38:49.223317Z",
     "start_time": "2021-06-05T01:38:49.086681Z"
    },
    "scrolled": true
   },
   "outputs": [
    {
     "data": {
      "text/plain": [
       "<matplotlib.image.AxesImage at 0x1809af93648>"
      ]
     },
     "execution_count": 15,
     "metadata": {},
     "output_type": "execute_result"
    },
    {
     "data": {
      "image/png": "[encoded data removed]",
      "text/plain": [
       "<Figure size 432x288 with 1 Axes>"
      ]
     },
     "metadata": {
      "needs_background": "light"
     },
     "output_type": "display_data"
    }
   ],
   "source": [
    "plt.imshow(X_train[0][:,:,0])\n"
   ]
  },
  {
   "cell_type": "markdown",
   "id": "c329f6d3",
   "metadata": {},
   "source": [
    "## 3.CNN"
   ]
  },
  {
   "cell_type": "markdown",
   "id": "58a214f7",
   "metadata": {},
   "source": [
    "我使用了 Keras Sequential API，您只需从输入开始，一次添加一层。\n",
    "\n",
    "第一个是卷积（Conv2D）层。它就像一组可学习的过滤器。我选择为前两个 conv2D 层设置 32 个过滤器，为最后两个层设置 64 个过滤器。每个过滤器使用内核过滤器转换图像的一部分（由内核大小定义）。内核滤波器矩阵应用于整个图像。过滤器可以看作是图像的一种变换。\n",
    "\n",
    "CNN 可以从这些转换后的图像（特征图）中分离出处处有用的特征。\n",
    "\n",
    "CNN 中的第二个重要层是池化 (MaxPool2D) 层。该层仅充当下采样滤波器。它查看 2 个相邻像素并选择最大值。这些用于降低计算成本，并在一定程度上减少过拟合。我们必须选择池化大小（即每次池化的区域大小），池化维度越高，下采样越重要。\n",
    "\n",
    "结合卷积层和池化层，CNN 能够结合局部特征并学习图像的更多全局特征。\n",
    "\n",
    "Dropout 是一种正则化方法，对于每个训练样本，层中一定比例的节点被随机忽略（将它们的权重设置为零）。这会随机丢弃网络的一部分，并强制网络以分布式方式学习特征。这种技术还提高了泛化能力并减少了过拟合。\n",
    "\n",
    "'relu' 是激活函数 max(0,x)。激活函数用于为网络添加非线性。\n",
    "\n",
    "Flatten 层用于将最终的特征图转换为一个单一的一维向量。 需要此展平步骤，以便您可以在一些卷积/最大池层之后使用完全连接的层。 它结合了先前卷积层的所有找到的局部特征。\n",
    "\n",
    "最后，我使用了两个完全连接（密集）层中的特征，这只是人工神经网络（ANN）分类器。 在最后一层 (Dense(10,activation=\"softmax\")) 中，每个类别的概率的净输出分布。"
   ]
  },
  {
   "cell_type": "code",
   "execution_count": 16,
   "id": "55f9ceb1",
   "metadata": {
    "ExecuteTime": {
     "end_time": "2021-06-05T01:38:49.422784Z",
     "start_time": "2021-06-05T01:38:49.224314Z"
    }
   },
   "outputs": [],
   "source": [
    "# Set the CNN model \n",
    "# my CNN architechture is In -> [[Conv2D->relu]*2 -> MaxPool2D -> Dropout]*2 -> Flatten -> Dense -> Dropout -> Out\n",
    "\n",
    "model = Sequential()\n",
    "\n",
    "model.add(Conv2D(filters = 32, kernel_size = (5,5),padding = 'Same', \n",
    "                 activation ='relu', input_shape = (28,28,1)))\n",
    "model.add(Conv2D(filters = 32, kernel_size = (5,5),padding = 'Same', \n",
    "                 activation ='relu'))\n",
    "model.add(MaxPool2D(pool_size=(2,2)))\n",
    "model.add(Dropout(0.25))\n",
    "\n",
    "\n",
    "model.add(Conv2D(filters = 64, kernel_size = (3,3),padding = 'Same', \n",
    "                 activation ='relu'))\n",
    "model.add(Conv2D(filters = 64, kernel_size = (3,3),padding = 'Same', \n",
    "                 activation ='relu'))\n",
    "model.add(MaxPool2D(pool_size=(2,2), strides=(2,2)))\n",
    "model.add(Dropout(0.25))\n",
    "\n",
    "\n",
    "model.add(Flatten())\n",
    "model.add(Dense(64, activation = \"relu\"))\n",
    "model.add(Dropout(0.25))\n",
    "model.add(Dense(64, activation = \"relu\"))\n",
    "model.add(Dropout(0.25))\n",
    "model.add(Dense(10, activation = \"softmax\"))"
   ]
  },
  {
   "cell_type": "code",
   "execution_count": 17,
   "id": "9dbcec70",
   "metadata": {
    "ExecuteTime": {
     "end_time": "2021-06-05T01:38:49.438660Z",
     "start_time": "2021-06-05T01:38:49.423780Z"
    }
   },
   "outputs": [
    {
     "name": "stdout",
     "output_type": "stream",
     "text": [
      "Model: \"sequential_1\"\n",
      "_________________________________________________________________\n",
      "Layer (type)                 Output Shape              Param #   \n",
      "=================================================================\n",
      "conv2d_1 (Conv2D)            (None, 28, 28, 32)        832       \n",
      "_________________________________________________________________\n",
      "conv2d_2 (Conv2D)            (None, 28, 28, 32)        25632     \n",
      "_________________________________________________________________\n",
      "max_pooling2d_1 (MaxPooling2 (None, 14, 14, 32)        0         \n",
      "_________________________________________________________________\n",
      "dropout_1 (Dropout)          (None, 14, 14, 32)        0         \n",
      "_________________________________________________________________\n",
      "conv2d_3 (Conv2D)            (None, 14, 14, 64)        18496     \n",
      "_________________________________________________________________\n",
      "conv2d_4 (Conv2D)            (None, 14, 14, 64)        36928     \n",
      "_________________________________________________________________\n",
      "max_pooling2d_2 (MaxPooling2 (None, 7, 7, 64)          0         \n",
      "_________________________________________________________________\n",
      "dropout_2 (Dropout)          (None, 7, 7, 64)          0         \n",
      "_________________________________________________________________\n",
      "flatten_1 (Flatten)          (None, 3136)              0         \n",
      "_________________________________________________________________\n",
      "dense_1 (Dense)              (None, 64)                200768    \n",
      "_________________________________________________________________\n",
      "dropout_3 (Dropout)          (None, 64)                0         \n",
      "_________________________________________________________________\n",
      "dense_2 (Dense)              (None, 64)                4160      \n",
      "_________________________________________________________________\n",
      "dropout_4 (Dropout)          (None, 64)                0         \n",
      "_________________________________________________________________\n",
      "dense_3 (Dense)              (None, 10)                650       \n",
      "=================================================================\n",
      "Total params: 287,466\n",
      "Trainable params: 287,466\n",
      "Non-trainable params: 0\n",
      "_________________________________________________________________\n"
     ]
    }
   ],
   "source": [
    "model.summary()"
   ]
  },
  {
   "cell_type": "code",
   "execution_count": 36,
   "id": "8e5cbeb8",
   "metadata": {
    "ExecuteTime": {
     "end_time": "2021-06-05T01:57:13.389361Z",
     "start_time": "2021-06-05T01:57:12.968486Z"
    },
    "collapsed": true
   },
   "outputs": [
    {
     "name": "stdout",
     "output_type": "stream",
     "text": [
      "Model: \"sequential_7\"\n",
      "_________________________________________________________________\n",
      "Layer (type)                 Output Shape              Param #   \n",
      "=================================================================\n",
      "conv2d_31 (Conv2D)           (None, 28, 28, 64)        640       \n",
      "_________________________________________________________________\n",
      "batch_normalization_17 (Batc (None, 28, 28, 64)        256       \n",
      "_________________________________________________________________\n",
      "conv2d_32 (Conv2D)           (None, 28, 28, 64)        36928     \n",
      "_________________________________________________________________\n",
      "max_pooling2d_15 (MaxPooling (None, 14, 14, 64)        0         \n",
      "_________________________________________________________________\n",
      "batch_normalization_18 (Batc (None, 14, 14, 64)        256       \n",
      "_________________________________________________________________\n",
      "dropout_21 (Dropout)         (None, 14, 14, 64)        0         \n",
      "_________________________________________________________________\n",
      "conv2d_33 (Conv2D)           (None, 14, 14, 128)       73856     \n",
      "_________________________________________________________________\n",
      "batch_normalization_19 (Batc (None, 14, 14, 128)       512       \n",
      "_________________________________________________________________\n",
      "conv2d_34 (Conv2D)           (None, 14, 14, 128)       147584    \n",
      "_________________________________________________________________\n",
      "batch_normalization_20 (Batc (None, 14, 14, 128)       512       \n",
      "_________________________________________________________________\n",
      "max_pooling2d_16 (MaxPooling (None, 7, 7, 128)         0         \n",
      "_________________________________________________________________\n",
      "dropout_22 (Dropout)         (None, 7, 7, 128)         0         \n",
      "_________________________________________________________________\n",
      "conv2d_35 (Conv2D)           (None, 7, 7, 256)         295168    \n",
      "_________________________________________________________________\n",
      "batch_normalization_21 (Batc (None, 7, 7, 256)         1024      \n",
      "_________________________________________________________________\n",
      "conv2d_36 (Conv2D)           (None, 7, 7, 256)         590080    \n",
      "_________________________________________________________________\n",
      "batch_normalization_22 (Batc (None, 7, 7, 256)         1024      \n",
      "_________________________________________________________________\n",
      "max_pooling2d_17 (MaxPooling (None, 3, 3, 256)         0         \n",
      "_________________________________________________________________\n",
      "dropout_23 (Dropout)         (None, 3, 3, 256)         0         \n",
      "_________________________________________________________________\n",
      "conv2d_37 (Conv2D)           (None, 3, 3, 512)         1180160   \n",
      "_________________________________________________________________\n",
      "batch_normalization_23 (Batc (None, 3, 3, 512)         2048      \n",
      "_________________________________________________________________\n",
      "conv2d_38 (Conv2D)           (None, 3, 3, 512)         2359808   \n",
      "_________________________________________________________________\n",
      "batch_normalization_24 (Batc (None, 3, 3, 512)         2048      \n",
      "_________________________________________________________________\n",
      "max_pooling2d_18 (MaxPooling (None, 1, 1, 512)         0         \n",
      "_________________________________________________________________\n",
      "dropout_24 (Dropout)         (None, 1, 1, 512)         0         \n",
      "_________________________________________________________________\n",
      "flatten_5 (Flatten)          (None, 512)               0         \n",
      "_________________________________________________________________\n",
      "dense_11 (Dense)             (None, 10)                5130      \n",
      "=================================================================\n",
      "Total params: 4,697,034\n",
      "Trainable params: 4,693,194\n",
      "Non-trainable params: 3,840\n",
      "_________________________________________________________________\n"
     ]
    }
   ],
   "source": [
    "# model = Sequential()\n",
    "# model.add(Conv2D(filters = 64, kernel_size = (3,3),padding = 'Same', \n",
    "#                  activation ='relu', input_shape = (28,28,1)))\n",
    "# model.add(BatchNormalization())\n",
    "# model.add(Conv2D(filters = 64, kernel_size = (3,3), padding= 'Same',\n",
    "#                 activation='relu'))\n",
    "# model.add(MaxPool2D(pool_size=(2,2),strides=(2,2)))\n",
    "# model.add(BatchNormalization())\n",
    "# model.add(Dropout(0.25))\n",
    "\n",
    "# model.add(Conv2D(filters= 128, kernel_size=(3,3),padding=\"Same\",\n",
    "#                 activation='relu'))\n",
    "# model.add(BatchNormalization())\n",
    "# model.add(Conv2D(filters= 128, kernel_size=(3,3),padding=\"Same\",\n",
    "#                 activation='relu'))\n",
    "# model.add(BatchNormalization())\n",
    "# model.add(MaxPool2D(pool_size=(2,2),strides=(2,2)))\n",
    "\n",
    "# model.add(Dropout(0.25))\n",
    "\n",
    "# model.add(Conv2D(filters= 256, kernel_size=(3,3),padding=\"Same\",\n",
    "#                 activation='relu'))\n",
    "# model.add(BatchNormalization())\n",
    "# model.add(Conv2D(filters= 256, kernel_size=(3,3),padding=\"Same\",\n",
    "#                 activation='relu'))\n",
    "# model.add(BatchNormalization())\n",
    "# model.add(MaxPool2D(pool_size=(2,2),strides=(2,2)))\n",
    "# model.add(Dropout(0.25))\n",
    "\n",
    "# model.add(Conv2D(filters= 512, kernel_size=(3,3),padding=\"Same\",\n",
    "#                 activation='relu'))\n",
    "# model.add(BatchNormalization())\n",
    "# model.add(Conv2D(filters= 512, kernel_size=(3,3),padding=\"Same\",\n",
    "#                 activation='relu'))\n",
    "# model.add(BatchNormalization())\n",
    "# model.add(MaxPool2D(pool_size=(2,2),strides=(2,2)))\n",
    "# model.add(Dropout(0.25))\n",
    "# model.add(Flatten())\n",
    "# model.add(Dense(10,activation='softmax'))\n",
    "# model.summary()"
   ]
  },
  {
   "cell_type": "markdown",
   "id": "3a8c72af",
   "metadata": {
    "ExecuteTime": {
     "end_time": "2021-06-03T10:03:11.665036Z",
     "start_time": "2021-06-03T10:03:11.552775Z"
    }
   },
   "source": [
    "## 3.2 Set the optimizer and annealer 设置优化器和退火器"
   ]
  },
  {
   "cell_type": "markdown",
   "id": "34455db2",
   "metadata": {},
   "source": [
    "一旦我们的层被添加到模型中，我们需要设置一个评分函数、一个损失函数和一个优化算法。\n",
    "\n",
    "我们定义了损失函数来衡量我们的模型在具有已知标签的图像上的表现有多差。它是观察到的标签和预测的标签之间的错误率。我们使用称为“categorical_crossentropy”的分类分类（> 2 个类别）的特定形式。\n",
    "\n",
    "最重要的功能是优化器。该函数将迭代地改进参数（过滤核值、神经元的权重和偏差......）以最小化损失。\n",
    "\n",
    "我选择了 RMSprop（带有默认值），它是一个非常有效的优化器。 RMSProp 更新以非常简单的方式调整 Adagrad 方法，以尝试降低其激进的、单调递减的学习率。我们也可以使用随机梯度下降 ('SGD') 优化器，但它比 RMSprop 慢。\n",
    "\n",
    "度量函数“准确度”用于评估我们模型的性能。该度量函数类似于损失函数，不同之处在于在训练模型时不使用度量​​评估的结果（仅用于评估）。"
   ]
  },
  {
   "cell_type": "code",
   "execution_count": 37,
   "id": "5103a186",
   "metadata": {
    "ExecuteTime": {
     "end_time": "2021-06-05T01:57:14.645824Z",
     "start_time": "2021-06-05T01:57:14.635850Z"
    }
   },
   "outputs": [],
   "source": [
    "# Define the optimizer\n",
    "optimizer = RMSprop(lr=0.001, rho=0.9, epsilon=1e-08, decay=0.0)"
   ]
  },
  {
   "cell_type": "code",
   "execution_count": 38,
   "id": "0006ebce",
   "metadata": {
    "ExecuteTime": {
     "end_time": "2021-06-05T01:57:15.050742Z",
     "start_time": "2021-06-05T01:57:15.006858Z"
    }
   },
   "outputs": [],
   "source": [
    "# Compile the model\n",
    "model.compile(optimizer = optimizer , loss = \"categorical_crossentropy\", metrics=[\"accuracy\"])"
   ]
  },
  {
   "cell_type": "markdown",
   "id": "4009fc30",
   "metadata": {},
   "source": [
    "为了使优化器收敛得更快并且最接近损失函数的全局最小值，我使用了学习率（LR）的退火方法。\n",
    "\n",
    "LR 是优化器遍历“损失情况”的步骤。 LR越高，步长越大，收敛越快。 然而，高 LR 的采样非常差，优化器可能会陷入局部最小值。\n",
    "\n",
    "最好在训练期间降低学习率，以有效地达到损失函数的全局最小值。\n",
    "\n",
    "为了保持具有高 LR 的快速计算时间的优势，我根据是否有必要（当精度未提高时）每 X 步（时期）动态地减少 LR。\n",
    "\n",
    "使用 Keras.callbacks 的 ReduceLROnPlateau 函数，如果 3 个 epoch 后精度没有提高，我选择将 LR 减少一半。 "
   ]
  },
  {
   "cell_type": "code",
   "execution_count": 39,
   "id": "1b53b530",
   "metadata": {
    "ExecuteTime": {
     "end_time": "2021-06-05T01:57:15.768520Z",
     "start_time": "2021-06-05T01:57:15.751564Z"
    }
   },
   "outputs": [],
   "source": [
    "# Set a learning rate annealer\n",
    "learning_rate_reduction = ReduceLROnPlateau(monitor='val_acc', \n",
    "                                            patience=3, \n",
    "                                            verbose=1, \n",
    "                                            factor=0.5, \n",
    "                                            min_lr=0.00001)"
   ]
  },
  {
   "cell_type": "code",
   "execution_count": 40,
   "id": "528cba87",
   "metadata": {
    "ExecuteTime": {
     "end_time": "2021-06-05T01:57:16.125417Z",
     "start_time": "2021-06-05T01:57:16.119888Z"
    }
   },
   "outputs": [],
   "source": [
    "epochs = 30 # Turn epochs to 30 to get 0.9967 accuracy\n",
    "batch_size = 128"
   ]
  },
  {
   "cell_type": "markdown",
   "id": "9d723604",
   "metadata": {},
   "source": [
    "## 3.3 Data augmentation"
   ]
  },
  {
   "cell_type": "markdown",
   "id": "86e1b3c8",
   "metadata": {},
   "source": [
    "为了避免过拟合问题，我们需要人为地扩展我们的手写数字数据集。我们可以使您现有的数据集更大。这个想法是通过小的转换来改变训练数据，以重现有人写数字时发生的变化。\n",
    "\n",
    "比如数字不居中 比例不一样（有的写大/小数字） 图像旋转...\n",
    "\n",
    "以改变数组表示同时保持标签不变的方式改变训练数据的方法被称为数据增强技术。人们使用的一些流行的增强是灰度、水平翻转、垂直翻转、随机裁剪、颜色抖动、平移、旋转等等。\n",
    "\n",
    "通过对我们的训练数据应用这些转换中的几个，我们可以轻松地将训练示例的数量增加一倍或三倍，并创建一个非常强大的模型。"
   ]
  },
  {
   "cell_type": "code",
   "execution_count": 41,
   "id": "f34b5660",
   "metadata": {
    "ExecuteTime": {
     "end_time": "2021-06-05T01:57:18.171506Z",
     "start_time": "2021-06-05T01:57:17.656305Z"
    }
   },
   "outputs": [],
   "source": [
    "# With data augmentation to prevent overfitting (accuracy 0.99286)\n",
    "\n",
    "datagen = ImageDataGenerator(\n",
    "        featurewise_center=False,  # set input mean to 0 over the dataset\n",
    "        samplewise_center=False,  # set each sample mean to 0\n",
    "        featurewise_std_normalization=False,  # divide inputs by std of the dataset\n",
    "        samplewise_std_normalization=False,  # divide each input by its std\n",
    "        zca_whitening=False,  # apply ZCA whitening\n",
    "        rotation_range=10,  # randomly rotate images in the range (degrees, 0 to 180)\n",
    "        zoom_range = 0.1, # Randomly zoom image \n",
    "        width_shift_range=0.1,  # randomly shift images horizontally (fraction of total width)\n",
    "        height_shift_range=0.1,  # randomly shift images vertically (fraction of total height)\n",
    "        horizontal_flip=False,  # randomly flip images\n",
    "        vertical_flip=False)  # randomly flip images\n",
    "\n",
    "\n",
    "datagen.fit(X_train)"
   ]
  },
  {
   "cell_type": "markdown",
   "id": "f08477cd",
   "metadata": {},
   "source": [
    "对于数据增强，我选择：\n",
    "- 将一些训练图像随机旋转 10 度\n",
    "- 将一些训练图像随机放大 10%\n",
    "- 将图像水平随机移动 10% 的宽度\n",
    "- 将图像垂直随机移动 10% 的高度\n",
    "\n",
    "我没有应用vertical_flip 或horizontal_flip，因为它可能导致错误分类对称数，例如6 和9。\n",
    "一旦我们的模型准备就绪，我们就会拟合训练数据集。"
   ]
  },
  {
   "cell_type": "code",
   "execution_count": 42,
   "id": "6375a3dc",
   "metadata": {
    "ExecuteTime": {
     "end_time": "2021-06-05T01:57:18.774385Z",
     "start_time": "2021-06-05T01:57:18.758395Z"
    }
   },
   "outputs": [],
   "source": [
    "# # 如果有GPU 利用GPU\n",
    "# import tensorflow as tf \n",
    "# config = tf.compat.v1.ConfigProto()\n",
    "# config.gpu_options.per_process_gpu_memory_fraction = 0.6\n",
    "# # config.gpu_options.allow_growth = True\n",
    "# session = tf.compat.v1.Session(config=config)"
   ]
  },
  {
   "cell_type": "code",
   "execution_count": 50,
   "id": "99d61537",
   "metadata": {
    "ExecuteTime": {
     "end_time": "2021-06-05T04:53:05.875779Z",
     "start_time": "2021-06-05T03:40:49.092435Z"
    },
    "collapsed": true
   },
   "outputs": [
    {
     "name": "stdout",
     "output_type": "stream",
     "text": [
      "Epoch 1/100\n",
      "295/295 [==============================] - 39s 131ms/step - loss: 0.0081 - accuracy: 0.9976 - val_loss: 0.0340 - val_accuracy: 0.9938\n",
      "Epoch 2/100\n",
      "  1/295 [..............................] - ETA: 37s - loss: 1.9227e-04 - accuracy: 1.0000"
     ]
    },
    {
     "name": "stderr",
     "output_type": "stream",
     "text": [
      "c:\\users\\86137\\appdata\\local\\programs\\python\\python37\\lib\\site-packages\\keras\\callbacks\\callbacks.py:1042: RuntimeWarning: Reduce LR on plateau conditioned on metric `val_acc` which is not available. Available metrics are: val_loss,val_accuracy,loss,accuracy,lr\n",
      "  (self.monitor, ','.join(list(logs.keys()))), RuntimeWarning\n"
     ]
    },
    {
     "name": "stdout",
     "output_type": "stream",
     "text": [
      "295/295 [==============================] - 39s 132ms/step - loss: 0.0090 - accuracy: 0.9974 - val_loss: 0.0252 - val_accuracy: 0.9957\n",
      "Epoch 3/100\n",
      "295/295 [==============================] - 39s 132ms/step - loss: 0.0071 - accuracy: 0.9980 - val_loss: 0.0310 - val_accuracy: 0.9955\n",
      "Epoch 4/100\n",
      "295/295 [==============================] - 39s 132ms/step - loss: 0.0077 - accuracy: 0.9979 - val_loss: 0.0299 - val_accuracy: 0.9948\n",
      "Epoch 5/100\n",
      "295/295 [==============================] - 39s 133ms/step - loss: 0.0085 - accuracy: 0.9975 - val_loss: 0.0286 - val_accuracy: 0.9952\n",
      "Epoch 6/100\n",
      "295/295 [==============================] - 40s 135ms/step - loss: 0.0069 - accuracy: 0.9979 - val_loss: 0.0298 - val_accuracy: 0.9955\n",
      "Epoch 7/100\n",
      "295/295 [==============================] - 39s 132ms/step - loss: 0.0074 - accuracy: 0.9982 - val_loss: 0.0316 - val_accuracy: 0.9950\n",
      "Epoch 8/100\n",
      "295/295 [==============================] - 39s 133ms/step - loss: 0.0069 - accuracy: 0.9980 - val_loss: 0.0317 - val_accuracy: 0.9952\n",
      "Epoch 9/100\n",
      "295/295 [==============================] - 39s 133ms/step - loss: 0.0083 - accuracy: 0.9981 - val_loss: 0.0367 - val_accuracy: 0.9948\n",
      "Epoch 10/100\n",
      "295/295 [==============================] - 39s 133ms/step - loss: 0.0077 - accuracy: 0.9977 - val_loss: 0.0331 - val_accuracy: 0.9940\n",
      "Epoch 11/100\n",
      "295/295 [==============================] - 39s 133ms/step - loss: 0.0075 - accuracy: 0.9981 - val_loss: 0.0322 - val_accuracy: 0.9950\n",
      "Epoch 12/100\n",
      "295/295 [==============================] - 39s 133ms/step - loss: 0.0060 - accuracy: 0.9985 - val_loss: 0.0370 - val_accuracy: 0.9955\n",
      "Epoch 13/100\n",
      "295/295 [==============================] - 39s 133ms/step - loss: 0.0083 - accuracy: 0.9980 - val_loss: 0.0381 - val_accuracy: 0.9948\n",
      "Epoch 14/100\n",
      "295/295 [==============================] - 39s 132ms/step - loss: 0.0067 - accuracy: 0.9982 - val_loss: 0.0332 - val_accuracy: 0.9948\n",
      "Epoch 15/100\n",
      "295/295 [==============================] - 39s 133ms/step - loss: 0.0081 - accuracy: 0.9978 - val_loss: 0.0378 - val_accuracy: 0.9952\n",
      "Epoch 16/100\n",
      "295/295 [==============================] - 39s 133ms/step - loss: 0.0065 - accuracy: 0.9981 - val_loss: 0.0392 - val_accuracy: 0.9945\n",
      "Epoch 17/100\n",
      "295/295 [==============================] - 39s 132ms/step - loss: 0.0070 - accuracy: 0.9980 - val_loss: 0.0494 - val_accuracy: 0.9948\n",
      "Epoch 18/100\n",
      "295/295 [==============================] - 40s 134ms/step - loss: 0.0064 - accuracy: 0.9983 - val_loss: 0.0333 - val_accuracy: 0.9960\n",
      "Epoch 19/100\n",
      "295/295 [==============================] - 39s 133ms/step - loss: 0.0063 - accuracy: 0.9983 - val_loss: 0.0371 - val_accuracy: 0.9964\n",
      "Epoch 20/100\n",
      "295/295 [==============================] - 39s 133ms/step - loss: 0.0065 - accuracy: 0.9984 - val_loss: 0.0389 - val_accuracy: 0.9945\n",
      "Epoch 21/100\n",
      "295/295 [==============================] - 39s 134ms/step - loss: 0.0065 - accuracy: 0.9980 - val_loss: 0.0405 - val_accuracy: 0.9952\n",
      "Epoch 22/100\n",
      "295/295 [==============================] - 39s 133ms/step - loss: 0.0057 - accuracy: 0.9983 - val_loss: 0.0339 - val_accuracy: 0.9967\n",
      "Epoch 23/100\n",
      "295/295 [==============================] - 39s 133ms/step - loss: 0.0065 - accuracy: 0.9983 - val_loss: 0.0346 - val_accuracy: 0.9955\n",
      "Epoch 24/100\n",
      "295/295 [==============================] - 39s 133ms/step - loss: 0.0058 - accuracy: 0.9985 - val_loss: 0.0387 - val_accuracy: 0.9955\n",
      "Epoch 25/100\n",
      "295/295 [==============================] - 39s 134ms/step - loss: 0.0061 - accuracy: 0.9986 - val_loss: 0.0394 - val_accuracy: 0.9943\n",
      "Epoch 26/100\n",
      "295/295 [==============================] - 39s 134ms/step - loss: 0.0078 - accuracy: 0.9980 - val_loss: 0.0331 - val_accuracy: 0.9955\n",
      "Epoch 27/100\n",
      "295/295 [==============================] - 39s 132ms/step - loss: 0.0056 - accuracy: 0.9985 - val_loss: 0.0421 - val_accuracy: 0.9955\n",
      "Epoch 28/100\n",
      "295/295 [==============================] - 39s 134ms/step - loss: 0.0058 - accuracy: 0.9987 - val_loss: 0.0362 - val_accuracy: 0.9952\n",
      "Epoch 29/100\n",
      "295/295 [==============================] - 39s 133ms/step - loss: 0.0071 - accuracy: 0.9982 - val_loss: 0.0413 - val_accuracy: 0.9960\n",
      "Epoch 30/100\n",
      "295/295 [==============================] - 39s 133ms/step - loss: 0.0069 - accuracy: 0.9984 - val_loss: 0.0328 - val_accuracy: 0.9955\n",
      "Epoch 31/100\n",
      "295/295 [==============================] - 39s 133ms/step - loss: 0.0052 - accuracy: 0.9986 - val_loss: 0.0413 - val_accuracy: 0.9952\n",
      "Epoch 32/100\n",
      "295/295 [==============================] - 39s 132ms/step - loss: 0.0064 - accuracy: 0.9985 - val_loss: 0.0354 - val_accuracy: 0.9960\n",
      "Epoch 33/100\n",
      "295/295 [==============================] - 39s 133ms/step - loss: 0.0058 - accuracy: 0.9986 - val_loss: 0.0308 - val_accuracy: 0.9952\n",
      "Epoch 34/100\n",
      "295/295 [==============================] - 39s 133ms/step - loss: 0.0071 - accuracy: 0.9981 - val_loss: 0.0453 - val_accuracy: 0.9950\n",
      "Epoch 35/100\n",
      "295/295 [==============================] - 40s 134ms/step - loss: 0.0044 - accuracy: 0.9988 - val_loss: 0.0535 - val_accuracy: 0.9931\n",
      "Epoch 36/100\n",
      "295/295 [==============================] - 39s 133ms/step - loss: 0.0047 - accuracy: 0.9987 - val_loss: 0.0430 - val_accuracy: 0.9945\n",
      "Epoch 37/100\n",
      "295/295 [==============================] - 39s 133ms/step - loss: 0.0059 - accuracy: 0.9986 - val_loss: 0.0361 - val_accuracy: 0.9960\n",
      "Epoch 38/100\n",
      "295/295 [==============================] - 39s 134ms/step - loss: 0.0051 - accuracy: 0.9986 - val_loss: 0.0423 - val_accuracy: 0.9952\n",
      "Epoch 39/100\n",
      "295/295 [==============================] - 39s 133ms/step - loss: 0.0051 - accuracy: 0.9982 - val_loss: 0.0573 - val_accuracy: 0.9948\n",
      "Epoch 40/100\n",
      "295/295 [==============================] - 39s 134ms/step - loss: 0.0067 - accuracy: 0.9982 - val_loss: 0.0501 - val_accuracy: 0.9936\n",
      "Epoch 41/100\n",
      "295/295 [==============================] - 40s 135ms/step - loss: 0.0056 - accuracy: 0.9985 - val_loss: 0.0478 - val_accuracy: 0.9948\n",
      "Epoch 42/100\n",
      "295/295 [==============================] - 40s 135ms/step - loss: 0.0052 - accuracy: 0.9986 - val_loss: 0.0379 - val_accuracy: 0.9945\n",
      "Epoch 43/100\n",
      "295/295 [==============================] - 44s 150ms/step - loss: 0.0049 - accuracy: 0.9987 - val_loss: 0.0433 - val_accuracy: 0.9948\n",
      "Epoch 44/100\n",
      "295/295 [==============================] - 43s 146ms/step - loss: 0.0073 - accuracy: 0.9984 - val_loss: 0.0324 - val_accuracy: 0.9948\n",
      "Epoch 45/100\n",
      "295/295 [==============================] - 41s 140ms/step - loss: 0.0061 - accuracy: 0.9986 - val_loss: 0.0653 - val_accuracy: 0.9929\n",
      "Epoch 46/100\n",
      "295/295 [==============================] - 42s 142ms/step - loss: 0.0050 - accuracy: 0.9986 - val_loss: 0.0392 - val_accuracy: 0.9940\n",
      "Epoch 47/100\n",
      "295/295 [==============================] - 41s 140ms/step - loss: 0.0062 - accuracy: 0.9985 - val_loss: 0.0470 - val_accuracy: 0.9950\n",
      "Epoch 48/100\n",
      "295/295 [==============================] - 41s 139ms/step - loss: 0.0046 - accuracy: 0.9985 - val_loss: 0.0503 - val_accuracy: 0.9943\n",
      "Epoch 49/100\n",
      "295/295 [==============================] - 41s 139ms/step - loss: 0.0070 - accuracy: 0.9983 - val_loss: 0.0347 - val_accuracy: 0.9952\n",
      "Epoch 50/100\n",
      "295/295 [==============================] - 41s 140ms/step - loss: 0.0049 - accuracy: 0.9988 - val_loss: 0.0496 - val_accuracy: 0.9945\n",
      "Epoch 51/100\n",
      "295/295 [==============================] - 42s 142ms/step - loss: 0.0037 - accuracy: 0.9990 - val_loss: 0.0365 - val_accuracy: 0.9948\n",
      "Epoch 52/100\n",
      "295/295 [==============================] - 41s 141ms/step - loss: 0.0050 - accuracy: 0.9988 - val_loss: 0.0463 - val_accuracy: 0.9948\n",
      "Epoch 53/100\n",
      "295/295 [==============================] - 42s 142ms/step - loss: 0.0055 - accuracy: 0.9987 - val_loss: 0.0520 - val_accuracy: 0.9945\n",
      "Epoch 54/100\n",
      "295/295 [==============================] - 42s 141ms/step - loss: 0.0054 - accuracy: 0.9986 - val_loss: 0.0422 - val_accuracy: 0.9948\n",
      "Epoch 55/100\n",
      "295/295 [==============================] - 41s 138ms/step - loss: 0.0040 - accuracy: 0.9989 - val_loss: 0.0364 - val_accuracy: 0.9945\n",
      "Epoch 56/100\n",
      "295/295 [==============================] - 40s 136ms/step - loss: 0.0066 - accuracy: 0.9986 - val_loss: 0.0492 - val_accuracy: 0.9943\n",
      "Epoch 57/100\n",
      "295/295 [==============================] - 40s 135ms/step - loss: 0.0052 - accuracy: 0.9988 - val_loss: 0.0618 - val_accuracy: 0.9936\n"
     ]
    },
    {
     "name": "stdout",
     "output_type": "stream",
     "text": [
      "Epoch 58/100\n",
      "295/295 [==============================] - 40s 136ms/step - loss: 0.0051 - accuracy: 0.9987 - val_loss: 0.0493 - val_accuracy: 0.9948\n",
      "Epoch 59/100\n",
      "295/295 [==============================] - 40s 135ms/step - loss: 0.0050 - accuracy: 0.9987 - val_loss: 0.0569 - val_accuracy: 0.9936\n",
      "Epoch 60/100\n",
      "295/295 [==============================] - 40s 135ms/step - loss: 0.0047 - accuracy: 0.9986 - val_loss: 0.0506 - val_accuracy: 0.9955\n",
      "Epoch 61/100\n",
      "295/295 [==============================] - 40s 135ms/step - loss: 0.0041 - accuracy: 0.9990 - val_loss: 0.0389 - val_accuracy: 0.9955\n",
      "Epoch 62/100\n",
      "295/295 [==============================] - 40s 135ms/step - loss: 0.0063 - accuracy: 0.9985 - val_loss: 0.0521 - val_accuracy: 0.9948\n",
      "Epoch 63/100\n",
      "295/295 [==============================] - 41s 139ms/step - loss: 0.0062 - accuracy: 0.9988 - val_loss: 0.0425 - val_accuracy: 0.9950\n",
      "Epoch 64/100\n",
      "295/295 [==============================] - 40s 136ms/step - loss: 0.0041 - accuracy: 0.9990 - val_loss: 0.0455 - val_accuracy: 0.9945\n",
      "Epoch 65/100\n",
      "295/295 [==============================] - 40s 136ms/step - loss: 0.0052 - accuracy: 0.9984 - val_loss: 0.0361 - val_accuracy: 0.9955\n",
      "Epoch 66/100\n",
      "295/295 [==============================] - 40s 136ms/step - loss: 0.0044 - accuracy: 0.9987 - val_loss: 0.0451 - val_accuracy: 0.9948\n",
      "Epoch 67/100\n",
      "295/295 [==============================] - 39s 134ms/step - loss: 0.0044 - accuracy: 0.9987 - val_loss: 0.0440 - val_accuracy: 0.9955\n",
      "Epoch 68/100\n",
      "295/295 [==============================] - 39s 133ms/step - loss: 0.0063 - accuracy: 0.9986 - val_loss: 0.0450 - val_accuracy: 0.9952\n",
      "Epoch 69/100\n",
      "295/295 [==============================] - 39s 133ms/step - loss: 0.0053 - accuracy: 0.9988 - val_loss: 0.0458 - val_accuracy: 0.9955\n",
      "Epoch 70/100\n",
      "295/295 [==============================] - 39s 132ms/step - loss: 0.0061 - accuracy: 0.9987 - val_loss: 0.0351 - val_accuracy: 0.9960\n",
      "Epoch 71/100\n",
      "295/295 [==============================] - 39s 133ms/step - loss: 0.0036 - accuracy: 0.9990 - val_loss: 0.0354 - val_accuracy: 0.9957\n",
      "Epoch 72/100\n",
      "295/295 [==============================] - 39s 133ms/step - loss: 0.0051 - accuracy: 0.9987 - val_loss: 0.0341 - val_accuracy: 0.9957\n",
      "Epoch 73/100\n",
      "295/295 [==============================] - 39s 132ms/step - loss: 0.0041 - accuracy: 0.9989 - val_loss: 0.0365 - val_accuracy: 0.9955\n",
      "Epoch 74/100\n",
      "295/295 [==============================] - 39s 133ms/step - loss: 0.0040 - accuracy: 0.9989 - val_loss: 0.0463 - val_accuracy: 0.9950\n",
      "Epoch 75/100\n",
      "295/295 [==============================] - 51s 173ms/step - loss: 0.0062 - accuracy: 0.9984 - val_loss: 0.0394 - val_accuracy: 0.9952\n",
      "Epoch 76/100\n",
      "295/295 [==============================] - 57s 195ms/step - loss: 0.0038 - accuracy: 0.9991 - val_loss: 0.0452 - val_accuracy: 0.9962\n",
      "Epoch 77/100\n",
      "295/295 [==============================] - 71s 242ms/step - loss: 0.0044 - accuracy: 0.9989 - val_loss: 0.0474 - val_accuracy: 0.9948\n",
      "Epoch 78/100\n",
      "295/295 [==============================] - 77s 262ms/step - loss: 0.0057 - accuracy: 0.9988 - val_loss: 0.0532 - val_accuracy: 0.9936\n",
      "Epoch 79/100\n",
      "295/295 [==============================] - 42s 142ms/step - loss: 0.0050 - accuracy: 0.9988 - val_loss: 0.0529 - val_accuracy: 0.9940\n",
      "Epoch 80/100\n",
      "295/295 [==============================] - 42s 142ms/step - loss: 0.0055 - accuracy: 0.9985 - val_loss: 0.0544 - val_accuracy: 0.9936\n",
      "Epoch 81/100\n",
      "295/295 [==============================] - 42s 142ms/step - loss: 0.0063 - accuracy: 0.9984 - val_loss: 0.0644 - val_accuracy: 0.9936\n",
      "Epoch 82/100\n",
      "295/295 [==============================] - 43s 146ms/step - loss: 0.0042 - accuracy: 0.9990 - val_loss: 0.0438 - val_accuracy: 0.9955\n",
      "Epoch 83/100\n",
      "295/295 [==============================] - 43s 145ms/step - loss: 0.0051 - accuracy: 0.9986 - val_loss: 0.0424 - val_accuracy: 0.9943\n",
      "Epoch 84/100\n",
      "295/295 [==============================] - 59s 198ms/step - loss: 0.0036 - accuracy: 0.9990 - val_loss: 0.0546 - val_accuracy: 0.9940\n",
      "Epoch 85/100\n",
      "295/295 [==============================] - 87s 294ms/step - loss: 0.0059 - accuracy: 0.9987 - val_loss: 0.0544 - val_accuracy: 0.9940\n",
      "Epoch 86/100\n",
      "295/295 [==============================] - 43s 145ms/step - loss: 0.0041 - accuracy: 0.9990 - val_loss: 0.0494 - val_accuracy: 0.9950\n",
      "Epoch 87/100\n",
      "295/295 [==============================] - 43s 145ms/step - loss: 0.0056 - accuracy: 0.9986 - val_loss: 0.0588 - val_accuracy: 0.9948\n",
      "Epoch 88/100\n",
      "295/295 [==============================] - 45s 154ms/step - loss: 0.0033 - accuracy: 0.9992 - val_loss: 0.0524 - val_accuracy: 0.9940\n",
      "Epoch 89/100\n",
      "295/295 [==============================] - 54s 182ms/step - loss: 0.0046 - accuracy: 0.9991 - val_loss: 0.0458 - val_accuracy: 0.9952: 0.0054 - accuracy: 0.999 - ETA: 14s - loss: 0.0053 - accu - ETA\n",
      "Epoch 90/100\n",
      "295/295 [==============================] - 54s 184ms/step - loss: 0.0044 - accuracy: 0.9990 - val_loss: 0.0502 - val_accuracy: 0.9955\n",
      "Epoch 91/100\n",
      "295/295 [==============================] - 81s 275ms/step - loss: 0.0044 - accuracy: 0.9991 - val_loss: 0.0638 - val_accuracy: 0.9943\n",
      "Epoch 92/100\n",
      "295/295 [==============================] - 60s 202ms/step - loss: 0.0033 - accuracy: 0.9992 - val_loss: 0.1866 - val_accuracy: 0.9929\n",
      "Epoch 93/100\n",
      "295/295 [==============================] - 42s 142ms/step - loss: 0.0064 - accuracy: 0.9990 - val_loss: 0.0487 - val_accuracy: 0.9950\n",
      "Epoch 94/100\n",
      "295/295 [==============================] - 42s 143ms/step - loss: 0.0025 - accuracy: 0.9991 - val_loss: 0.0518 - val_accuracy: 0.9945\n",
      "Epoch 95/100\n",
      "295/295 [==============================] - 42s 144ms/step - loss: 0.0039 - accuracy: 0.9990 - val_loss: 0.0580 - val_accuracy: 0.9955\n",
      "Epoch 96/100\n",
      "295/295 [==============================] - 43s 146ms/step - loss: 0.0043 - accuracy: 0.9992 - val_loss: 0.0528 - val_accuracy: 0.9948\n",
      "Epoch 97/100\n",
      "295/295 [==============================] - 43s 146ms/step - loss: 0.0046 - accuracy: 0.9990 - val_loss: 0.0579 - val_accuracy: 0.9940\n",
      "Epoch 98/100\n",
      "295/295 [==============================] - 73s 246ms/step - loss: 0.0045 - accuracy: 0.9989 - val_loss: 0.0531 - val_accuracy: 0.9960\n",
      "Epoch 99/100\n",
      "295/295 [==============================] - 68s 231ms/step - loss: 0.0035 - accuracy: 0.9990 - val_loss: 0.0589 - val_accuracy: 0.9938\n",
      "Epoch 100/100\n",
      "295/295 [==============================] - 43s 144ms/step - loss: 0.0025 - accuracy: 0.9992 - val_loss: 0.0731 - val_accuracy: 0.9938\n"
     ]
    }
   ],
   "source": [
    "# Fit the model\n",
    "history = model.fit_generator(datagen.flow(X_train,Y_train, batch_size=batch_size),\n",
    "                              epochs = 100, validation_data = (X_val,Y_val),\n",
    "                              verbose = 1, steps_per_epoch=X_train.shape[0] // batch_size\n",
    "                              , callbacks=[learning_rate_reduction])"
   ]
  },
  {
   "cell_type": "markdown",
   "id": "1a87a3ec",
   "metadata": {
    "ExecuteTime": {
     "end_time": "2021-06-03T10:46:41.939202Z",
     "start_time": "2021-06-03T10:46:41.918548Z"
    }
   },
   "source": [
    "# 4. Evaluate the model\n",
    "## 4.1 Training and validation curves"
   ]
  },
  {
   "cell_type": "code",
   "execution_count": 26,
   "id": "c2704c62",
   "metadata": {
    "ExecuteTime": {
     "end_time": "2021-06-05T01:50:48.522692Z",
     "start_time": "2021-06-05T01:50:48.218772Z"
    }
   },
   "outputs": [
    {
     "data": {
      "image/png": "[encoded data removed]",
      "text/plain": [
       "<Figure size 432x288 with 2 Axes>"
      ]
     },
     "metadata": {
      "needs_background": "light"
     },
     "output_type": "display_data"
    }
   ],
   "source": [
    "# Plot the loss and accuracy curves for training and validation \n",
    "fig, ax = plt.subplots(2,1)\n",
    "ax[0].plot(history.history['loss'], color='b', label=\"Training loss\")\n",
    "ax[0].plot(history.history['val_loss'], color='r', label=\"validation loss\",axes =ax[0])\n",
    "legend = ax[0].legend(loc='best', shadow=True)\n",
    "\n",
    "ax[1].plot(history.history['accuracy'], color='b', label=\"Training accuracy\")\n",
    "ax[1].plot(history.history['val_accuracy'], color='r',label=\"Validation accuracy\")\n",
    "legend = ax[1].legend(loc='best', shadow=True)"
   ]
  },
  {
   "cell_type": "markdown",
   "id": "a8ca7ad8",
   "metadata": {},
   "source": [
    "代码用于绘制训练和验证的损失和准确度曲线\n",
    "\n",
    "在训练过程中，验证准确率几乎每次都高于训练准确率。 这意味着我们的模型不会过拟合训练集。"
   ]
  },
  {
   "cell_type": "markdown",
   "id": "a1dcf301",
   "metadata": {},
   "source": [
    "## 4.2 Confusion matrix 混淆矩阵\n",
    "混淆矩阵对于查看模型缺点非常有帮助\n",
    "\n",
    "我绘制了验证结果的混淆矩阵"
   ]
  },
  {
   "cell_type": "code",
   "execution_count": 27,
   "id": "632a624e",
   "metadata": {
    "ExecuteTime": {
     "end_time": "2021-06-05T01:50:54.832060Z",
     "start_time": "2021-06-05T01:50:48.525640Z"
    }
   },
   "outputs": [
    {
     "data": {
      "image/png": "[encoded data removed]",
      "text/plain": [
       "<Figure size 432x288 with 2 Axes>"
      ]
     },
     "metadata": {
      "needs_background": "light"
     },
     "output_type": "display_data"
    }
   ],
   "source": [
    "# Look at confusion matrix \n",
    "\n",
    "def plot_confusion_matrix(cm, classes,\n",
    "                          normalize=False,\n",
    "                          title='Confusion matrix',\n",
    "                          cmap=plt.cm.Blues):\n",
    "    \"\"\"\n",
    "    This function prints and plots the confusion matrix.\n",
    "    Normalization can be applied by setting `normalize=True`.\n",
    "    \"\"\"\n",
    "    plt.imshow(cm, interpolation='nearest', cmap=cmap)\n",
    "    plt.title(title)\n",
    "    plt.colorbar()\n",
    "    tick_marks = np.arange(len(classes))\n",
    "    plt.xticks(tick_marks, classes, rotation=45)\n",
    "    plt.yticks(tick_marks, classes)\n",
    "\n",
    "    if normalize:\n",
    "        cm = cm.astype('float') / cm.sum(axis=1)[:, np.newaxis]\n",
    "\n",
    "    thresh = cm.max() / 2.\n",
    "    for i, j in itertools.product(range(cm.shape[0]), range(cm.shape[1])):\n",
    "        plt.text(j, i, cm[i, j],\n",
    "                 horizontalalignment=\"center\",\n",
    "                 color=\"white\" if cm[i, j] > thresh else \"black\")\n",
    "        plt.tight_layout()\n",
    "    plt.ylabel('True label')\n",
    "    plt.xlabel('Predicted label')\n",
    "\n",
    "# Predict the values from the validation dataset\n",
    "Y_pred = model.predict(X_val)\n",
    "# Convert predictions classes to one hot vectors \n",
    "Y_pred_classes = np.argmax(Y_pred,axis = 1) \n",
    "# Convert validation observations to one hot vectors\n",
    "Y_true = np.argmax(Y_val,axis = 1) \n",
    "# compute the confusion matrix\n",
    "confusion_mtx = confusion_matrix(Y_true, Y_pred_classes) \n",
    "# plot the confusion matrix\n",
    "plot_confusion_matrix(confusion_mtx, classes = range(10)) "
   ]
  },
  {
   "cell_type": "markdown",
   "id": "f75c53bc",
   "metadata": {},
   "source": [
    "在这里我们可以看到，考虑到验证集的大小（4 200 张图像），我们的 CNN 在所有数字上都表现得非常好，几乎没有错误。\n",
    "\n",
    "然而，我们的 CNN 似乎对 4 位数字有一些小问题，嘿嘿被误分类为 9。有时在曲线平滑时很难捕捉 4 和 9 之间的差异。"
   ]
  },
  {
   "cell_type": "code",
   "execution_count": 28,
   "id": "9d4dea23",
   "metadata": {
    "ExecuteTime": {
     "end_time": "2021-06-05T01:50:55.577033Z",
     "start_time": "2021-06-05T01:50:54.834055Z"
    }
   },
   "outputs": [
    {
     "data": {
      "image/png": "[encoded data removed]",
      "text/plain": [
       "<Figure size 432x288 with 6 Axes>"
      ]
     },
     "metadata": {
      "needs_background": "light"
     },
     "output_type": "display_data"
    }
   ],
   "source": [
    "# Display some error results \n",
    "\n",
    "# Errors are difference between predicted labels and true labels\n",
    "errors = (Y_pred_classes - Y_true != 0)\n",
    "\n",
    "Y_pred_classes_errors = Y_pred_classes[errors]\n",
    "Y_pred_errors = Y_pred[errors]\n",
    "Y_true_errors = Y_true[errors]\n",
    "X_val_errors = X_val[errors]\n",
    "\n",
    "def display_errors(errors_index,img_errors,pred_errors, obs_errors):\n",
    "    \"\"\" This function shows 6 images with their predicted and real labels\"\"\"\n",
    "    n = 0\n",
    "    nrows = 2\n",
    "    ncols = 3\n",
    "    fig, ax = plt.subplots(nrows,ncols,sharex=True,sharey=True)\n",
    "    for row in range(nrows):\n",
    "        for col in range(ncols):\n",
    "            error = errors_index[n]\n",
    "            ax[row,col].imshow((img_errors[error]).reshape((28,28)))\n",
    "            ax[row,col].set_title(\"Predicted label :{}\\nTrue label :{}\".format(pred_errors[error],obs_errors[error]))\n",
    "            n += 1\n",
    "\n",
    "\n",
    "# Probabilities of the wrong predicted numbers\n",
    "Y_pred_errors_prob = np.max(Y_pred_errors,axis = 1)\n",
    "\n",
    "# Predicted probabilities of the true values in the error set\n",
    "true_prob_errors = np.diagonal(np.take(Y_pred_errors, Y_true_errors, axis=1))\n",
    "\n",
    "# Difference between the probability of the predicted label and the true label\n",
    "delta_pred_true_errors = Y_pred_errors_prob - true_prob_errors\n",
    "\n",
    "# Sorted list of the delta prob errors\n",
    "sorted_dela_errors = np.argsort(delta_pred_true_errors)\n",
    "\n",
    "# Top 6 errors \n",
    "most_important_errors = sorted_dela_errors[-6:]\n",
    "\n",
    "# Show the top 6 errors\n",
    "display_errors(most_important_errors, X_val_errors, Y_pred_classes_errors, Y_true_errors)"
   ]
  },
  {
   "cell_type": "markdown",
   "id": "3af2d15c",
   "metadata": {},
   "source": [
    "最重要的错误也是最有趣的。\n",
    "\n",
    "对于这六个案例，该模型并不可笑。 其中一些错误也可能是人类造成的，尤其是对于非常接近 4 的 9。最后一个 9 也非常具有误导性，对我来说似乎是 0"
   ]
  },
  {
   "cell_type": "markdown",
   "id": "0a478d73",
   "metadata": {},
   "source": [
    "# 5. Prediction and submition\n",
    "## 5.1 Predict and Submit results"
   ]
  },
  {
   "cell_type": "code",
   "execution_count": 51,
   "id": "b1a6c0e5",
   "metadata": {
    "ExecuteTime": {
     "end_time": "2021-06-05T05:28:51.404866Z",
     "start_time": "2021-06-05T05:28:38.872846Z"
    }
   },
   "outputs": [],
   "source": [
    "# predict results\n",
    "results = model.predict(test)\n",
    "\n",
    "# select the indix with the maximum probability\n",
    "results = np.argmax(results,axis = 1)\n",
    "\n",
    "results = pd.Series(results,name=\"Label\")"
   ]
  },
  {
   "cell_type": "code",
   "execution_count": 52,
   "id": "5c902e48",
   "metadata": {
    "ExecuteTime": {
     "end_time": "2021-06-05T05:28:51.555465Z",
     "start_time": "2021-06-05T05:28:51.409853Z"
    }
   },
   "outputs": [],
   "source": [
    "submission = pd.concat([pd.Series(range(1,28001),name = \"ImageId\"),results],axis = 1)\n",
    "\n",
    "submission.to_csv(\"cnn_mnist_datagen.csv\",index=False)"
   ]
  },
  {
   "attachments": {
    "image-2.png": {
     "image/png": "[encoded data removed]"
    }
   },
   "cell_type": "markdown",
   "id": "57eac768",
   "metadata": {},
   "source": [
    "![image-2.png](attachment:image-2.png)"
   ]
  },
  {
   "cell_type": "code",
   "execution_count": null,
   "id": "1df746be",
   "metadata": {},
   "outputs": [],
   "source": []
  }
 ],
 "metadata": {
  "kernelspec": {
   "display_name": "Python 3",
   "language": "python",
   "name": "python3"
  },
  "language_info": {
   "codemirror_mode": {
    "name": "ipython",
    "version": 3
   },
   "file_extension": ".py",
   "mimetype": "text/x-python",
   "name": "python",
   "nbconvert_exporter": "python",
   "pygments_lexer": "ipython3",
   "version": "3.7.4"
  }
 },
 "nbformat": 4,
 "nbformat_minor": 5
}
